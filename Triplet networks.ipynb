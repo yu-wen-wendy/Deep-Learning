{
  "nbformat": 4,
  "nbformat_minor": 0,
  "metadata": {
    "accelerator": "GPU",
    "colab": {
      "name": "2IMM10_Assignment_2_2.ipynb",
      "provenance": [],
      "collapsed_sections": []
    },
    "kernelspec": {
      "display_name": "Python 3",
      "language": "python",
      "name": "python3"
    },
    "language_info": {
      "codemirror_mode": {
        "name": "ipython",
        "version": 3
      },
      "file_extension": ".py",
      "mimetype": "text/x-python",
      "name": "python",
      "nbconvert_exporter": "python",
      "pygments_lexer": "ipython3",
      "version": "3.7.4"
    }
  },
  "cells": [
    {
      "cell_type": "markdown",
      "metadata": {
        "colab_type": "text",
        "id": "uj4T8PEHGbMF"
      },
      "source": [
        "# Assignment 2"
      ]
    },
    {
      "cell_type": "markdown",
      "metadata": {
        "colab_type": "text",
        "id": "p-gkaM1tCThc"
      },
      "source": [
        "***\n",
        "## Question 2: Triplet networks & one-shot learning (10pt)\n",
        "\n",
        "In practice 4b.4, we train a Siamese network for one-shot learning task on the Omniglot dataset.  In this assignment, we will work on the same data set with the same task but extend it to triplet networks, we will also compare our model performance under different triplet selection method. The assignment contains the following 4 tasks"
      ]
    },
    {
      "cell_type": "markdown",
      "metadata": {
        "colab_type": "text",
        "id": "ZqdQgnI5AuN5"
      },
      "source": [
        "### Import packages and mount data\n",
        "Before everything, we need to import packages and mount data,\n",
        "*HINT: you could use the dataset in practice 4b.4 directly*"
      ]
    },
    {
      "cell_type": "code",
      "metadata": {
        "colab_type": "code",
        "id": "8QdDDUEIAuN6",
        "colab": {}
      },
      "source": [
        "import tensorflow as tf\n",
        "from tensorflow.keras import backend as K\n",
        "from tensorflow.keras.layers import Input, Conv2D, Lambda, Dense, Flatten, MaxPooling2D, Dropout,Concatenate, BatchNormalization, Reshape\n",
        "from tensorflow.keras.models import Model, Sequential\n",
        "from tensorflow.keras.regularizers import l2\n",
        "from tensorflow.keras.optimizers import Adam\n",
        "from tensorflow.keras.losses import binary_crossentropy\n",
        "import numpy as np\n",
        "from sklearn.metrics.pairwise import euclidean_distances\n",
        "import os\n",
        "import pickle\n",
        "import matplotlib.pyplot as plt\n",
        "from sklearn.utils import shuffle"
      ],
      "execution_count": 0,
      "outputs": []
    },
    {
      "cell_type": "code",
      "metadata": {
        "colab_type": "code",
        "id": "YzhGJvL2A7aL",
        "outputId": "1643eaab-7153-4cdb-9eda-9ed8bfa5a124",
        "colab": {
          "base_uri": "https://localhost:8080/",
          "height": 51
        }
      },
      "source": [
        "# mount the data needed to drive folder so we can use them in colab, see the data download link in Practical 4a.1\n",
        "from google.colab import drive\n",
        "!mkdir drive\n",
        "drive.mount('drive')"
      ],
      "execution_count": 24,
      "outputs": [
        {
          "output_type": "stream",
          "text": [
            "mkdir: cannot create directory ‘drive’: File exists\n",
            "Drive already mounted at drive; to attempt to forcibly remount, call drive.mount(\"drive\", force_remount=True).\n"
          ],
          "name": "stdout"
        }
      ]
    },
    {
      "cell_type": "code",
      "metadata": {
        "colab_type": "code",
        "id": "NEy5u5WBAuN_",
        "outputId": "75dd0f71-13e4-4608-87c2-adb9b26a4c58",
        "colab": {
          "base_uri": "https://localhost:8080/",
          "height": 156
        }
      },
      "source": [
        "PATH = os.path.join(\"drive\",\"My Drive\",\"Colab Notebooks\" ,\"omniglot\")\n",
        "\n",
        "with open(os.path.join(PATH, \"omniglot_train.p\"), \"rb\") as f:\n",
        "    (X_train, c_train) = pickle.load(f)\n",
        "\n",
        "with open(os.path.join(PATH, \"omniglot_test.p\"), \"rb\") as f:\n",
        "    (X_test, c_test) = pickle.load(f)\n",
        "\n",
        "print(\"X_train shape:\", X_train.shape)\n",
        "print(\"X_test shape:\", X_test.shape)\n",
        "print(\"\")\n",
        "print(\"training alphabets\")\n",
        "print([key for key in c_train.keys()])\n",
        "print(\"test alphabets:\")\n",
        "print([key for key in c_test.keys()])"
      ],
      "execution_count": 25,
      "outputs": [
        {
          "output_type": "stream",
          "text": [
            "X_train shape: (964, 20, 105, 105)\n",
            "X_test shape: (659, 20, 105, 105)\n",
            "\n",
            "training alphabets\n",
            "['Braille', 'Anglo-Saxon_Futhorc', 'Tifinagh', 'Grantha', 'Burmese_(Myanmar)', 'Mkhedruli_(Georgian)', 'Latin', 'Ojibwe_(Canadian_Aboriginal_Syllabics)', 'Balinese', 'Malay_(Jawi_-_Arabic)', 'Early_Aramaic', 'Korean', 'Japanese_(hiragana)', 'Armenian', 'Cyrillic', 'Hebrew', 'Syriac_(Estrangelo)', 'Japanese_(katakana)', 'Blackfoot_(Canadian_Aboriginal_Syllabics)', 'N_Ko', 'Alphabet_of_the_Magi', 'Inuktitut_(Canadian_Aboriginal_Syllabics)', 'Greek', 'Bengali', 'Tagalog', 'Futurama', 'Arcadian', 'Gujarati', 'Asomtavruli_(Georgian)', 'Sanskrit']\n",
            "test alphabets:\n",
            "['ULOG', 'Atemayar_Qelisayer', 'Ge_ez', 'Gurmukhi', 'Tengwar', 'Keble', 'Malayalam', 'Oriya', 'Kannada', 'Mongolian', 'Angelic', 'Atlantean', 'Syriac_(Serto)', 'Aurek-Besh', 'Avesta', 'Glagolitic', 'Sylheti', 'Tibetan', 'Manipuri', 'Old_Church_Slavonic_(Cyrillic)']\n"
          ],
          "name": "stdout"
        }
      ]
    },
    {
      "cell_type": "markdown",
      "metadata": {
        "colab_type": "text",
        "id": "QP79HYQrXD2k"
      },
      "source": [
        "### Task 2.1: Build  the triplet network (3pt)"
      ]
    },
    {
      "cell_type": "markdown",
      "metadata": {
        "colab_type": "text",
        "id": "1WHpL8iHAuOH"
      },
      "source": [
        "We will define a triplet Network for use with the Omniglot dataset. Each branch of the triplet  is a \"convnet\" model that transforms data to an embeddings space. \n",
        "\n",
        "*HINT: you may need \"Concatenate\" from keras.layer to merge the output layer*"
      ]
    },
    {
      "cell_type": "code",
      "metadata": {
        "colab_type": "code",
        "id": "GQNaMa8hXD2l",
        "colab": {}
      },
      "source": [
        "# define a convnet model to transforms data to an embeddings space. \n",
        "from tensorflow.keras.layers import Concatenate\n",
        "\n",
        "input_shape = (105, 105, 1)\n",
        "left_input = Input(input_shape)\n",
        "right_input = Input(input_shape)\n",
        "\n",
        "# === COMPLETE CODE BELOW ===\n",
        "def build_convnet():\n",
        "    convnet = Sequential(name='conv_base')\n",
        "    convnet.add(Conv2D(64, (10,10), activation='relu', input_shape=input_shape, kernel_regularizer=l2(2e-4)))\n",
        "    convnet.add(MaxPooling2D())\n",
        "    convnet.add(BatchNormalization())\n",
        "    convnet.add(Dropout(0.25))\n",
        "    convnet.add(Conv2D(128, (7,7), activation='relu', kernel_regularizer=l2(2e-4)))\n",
        "    convnet.add(MaxPooling2D())\n",
        "    convnet.add(BatchNormalization())\n",
        "    convnet.add(Dropout(0.25))\n",
        "    convnet.add(Conv2D(128, (4,4), activation='relu', kernel_regularizer=l2(2e-4)))\n",
        "    convnet.add(MaxPooling2D())\n",
        "    convnet.add(BatchNormalization())\n",
        "    convnet.add(Dropout(0.25))\n",
        "    convnet.add(Conv2D(256, (4,4), activation='relu', kernel_regularizer=l2(2e-4)))\n",
        "    convnet.add(Flatten())\n",
        "    convnet.add(BatchNormalization())\n",
        "    convnet.add(Dropout(0.25))\n",
        "    convnet.add(Dense(4096, activation=\"sigmoid\", kernel_regularizer=l2(1e-3)))\n",
        "    convnet.add(Reshape((1,4096)))\n",
        "    #convnet.summary()\n",
        "    return convnet"
      ],
      "execution_count": 0,
      "outputs": []
    },
    {
      "cell_type": "code",
      "metadata": {
        "colab_type": "code",
        "id": "RXVuWeCsAuOI",
        "colab": {}
      },
      "source": [
        "# define a Triplet network\n",
        "\n",
        "def build_triplet_net():\n",
        "    # The anchor, positive, negative image are merged together, as the input of the triplet network, then got split to get each one's neural codes.\n",
        "    generated = Input(shape=(3,105, 105, 1), name='input')\n",
        "\n",
        "    anchor  = Lambda(lambda x: x[:,0])(generated)\n",
        "    pos     = Lambda(lambda x: x[:,1])(generated)\n",
        "    neg     = Lambda(lambda x: x[:,2])(generated)\n",
        "\n",
        "    convnet = build_convnet()\n",
        "    \n",
        "    anchor_embedding    = convnet(anchor)\n",
        "    pos_embedding       = convnet(pos)\n",
        "    neg_embedding       = convnet(neg)  \n",
        "\n",
        "    # merge the anchor, positive, negative embedding together, \n",
        "    # let the merged layer be the output of triplet network\n",
        "\n",
        "    # === COMPLETE CODE BELOW ===\n",
        "    merged_output = Concatenate(axis=1)([anchor_embedding, pos_embedding, neg_embedding])\n",
        "\n",
        "    triplet_net = Model(inputs=generated, outputs=merged_output)\n",
        "    #triplet_net.summary()\n",
        "    \n",
        "    triplet_net.compile(loss=triplet_loss, optimizer='adam')\n",
        "    \n",
        "    return triplet_net\n"
      ],
      "execution_count": 0,
      "outputs": []
    },
    {
      "cell_type": "markdown",
      "metadata": {
        "colab_type": "text",
        "id": "A-XyrIANAuOM"
      },
      "source": [
        "### Task 2.2: Define triplet loss (2pt)\n",
        "\n",
        "You can find the formula of the triplet loss function in our lecture note. \n",
        "\n",
        "*HINT: you can play with the margin value to get better model performance*"
      ]
    },
    {
      "cell_type": "code",
      "metadata": {
        "colab_type": "code",
        "id": "mZ3v2Z0RAuON",
        "colab": {}
      },
      "source": [
        "# Notice that the ground truth variable is not used for loss calculation. \n",
        "# It is used as a function argument to by-pass some Keras functionality.\n",
        "# This is because the network structure already implies the ground truth for the anchor image with the \"positive\" image.\n",
        "import tensorflow as tf\n",
        "def triplet_loss(ground_truth, network_output):\n",
        "\n",
        "    anchor, positive, negative = tf.split(network_output, num_or_size_splits=3, axis=1)        \n",
        "    \n",
        "    # === COMPLETE CODE BELOW ===\n",
        "    \n",
        "    dist_a_p = K.sum(K.square(positive - anchor), axis=(-1, -2)) \n",
        "    dist_a_n = K.sum(K.square(negative - anchor), axis=(-1, -2)) \n",
        "    loss = K.maximum( dist_a_p - dist_a_n + 0.2, 0)  \n",
        "\n",
        "    return loss"
      ],
      "execution_count": 0,
      "outputs": []
    },
    {
      "cell_type": "markdown",
      "metadata": {
        "colab_type": "text",
        "id": "H7Wo8uzTXD2v"
      },
      "source": [
        "### Task 2.3: Select triplets for training (3pt)"
      ]
    },
    {
      "cell_type": "markdown",
      "metadata": {
        "colab_type": "text",
        "id": "tSSr9IzTAuOX"
      },
      "source": [
        "#### Different  selection method\n",
        "\n",
        "We have two different options for the triplet selection method, and we will compare the model performance under these two methods after building our model.\n",
        "\n",
        "(1) Random  triplets selection, including the following steps:\n",
        "* Pick one random class for anchor\n",
        "* Pick two different random picture for this class, as the anchor and positive images\n",
        "* Pick another class for Negative, different from anchor_class\n",
        "* Pick one random picture from the negative class.\n",
        "\n",
        "(2) Hard triplets selection. For easy implement, for a picked anchor, positive pair, we will choose the hardest negative to form a hard triplet, that means, after picking an anchor, positive image, we will choose the negative image which is nearest from anchor image from a negative class, ie: \"- d(a,n)\"  can get the maximum value. The whole process including the following steps:\n",
        "* Pick one random class for anchor\n",
        "* Pick two different random picture for this class, as an anchor and positive images\n",
        "* Pick another class for negative, different from anchor_class\n",
        "* Pick one hardest picture from the negative class.\n",
        "\n",
        "*HINT: when picking the hardest negative, you may need the model.predict to get the embedding of images, the calculate the distances*"
      ]
    },
    {
      "cell_type": "code",
      "metadata": {
        "colab_type": "code",
        "id": "HcxMsmACAuOY",
        "colab": {}
      },
      "source": [
        "# Notice that the returned  1 * np.zeros(batch_size) is to by-pass some Keras functionality, corresponding to ground_truth in tripletloss\n",
        "# We use a variable hard_selection to control which method we are going to use. If we set hard_selection == False, we will select triplets random,If we set the variable hard_selection == True, we will select hard triplets.\n",
        "\n",
        "# === COMPLETE CODE BELOW === \n",
        "\n",
        "def get_batch(triplet_net, batch_size, X, hard_selection=False):\n",
        "    \n",
        "    #extract convolutional base from triplet net\n",
        "    conv_base = triplet_net.get_layer(\"conv_base\")\n",
        "\n",
        "    while True:\n",
        "        \n",
        "        n_classes, n_examples, w, h = X.shape\n",
        "        # initialize result\n",
        "        triplets=[]\n",
        "\n",
        "        for i in range(batch_size):\n",
        "            triplet = [[],[],[]]\n",
        "            #Pick one random class for anchor\n",
        "            anchor_class = np.random.randint(0, n_classes)\n",
        "\n",
        "            #Pick two different random pics for this class => idx_A and idx_P\n",
        "            [idx_A,idx_P] = np.random.choice(n_examples,size=2,replace=False)\n",
        "\n",
        "            #Pick another class for negative, different from anchor_class\n",
        "            # === COMPLETE CODE BELOW === \n",
        "            negative_class = (anchor_class + np.random.randint(1, n_classes)) % n_classes\n",
        "\n",
        "            if not hard_selection:\n",
        "                #Pick a random pic from this negative class => N\n",
        "\n",
        "                # === COMPLETE CODE BELOW ===   \n",
        "                idx_N = np.random.choice(n_examples)\n",
        "\n",
        "            else:\n",
        "                #Pick a hardest pic from this negative class => N\n",
        "                # === COMPLETE CODE BELOW === \n",
        "                                \n",
        "                anchor = conv_base.predict(X[anchor_class, idx_A].reshape((1, w,h,1)))[:,0]\n",
        "                negative = conv_base.predict(X[negative_class].reshape((n_examples, w,h,1)))[:,0]\n",
        "                                \n",
        "                distances = euclidean_distances(anchor, negative)[0]\n",
        "                \n",
        "                idx_N = np.argmin(distances) \n",
        "                \n",
        "            triplet[0] = X[anchor_class][idx_A].reshape(w, h, 1)\n",
        "            triplet[1] = X[anchor_class][idx_P].reshape(w, h, 1)\n",
        "            triplet[2]=  X[negative_class][idx_N].reshape(w, h, 1)\n",
        "            triplets.append(triplet)\n",
        "\n",
        "        yield np.array(triplets), 1 * np.zeros(batch_size)\n",
        "        "
      ],
      "execution_count": 0,
      "outputs": []
    },
    {
      "cell_type": "code",
      "metadata": {
        "id": "j5jmqKLt9iWg",
        "colab_type": "code",
        "colab": {}
      },
      "source": [
        "def train(triplet_net, X_train, hard_selection, batch_size=64, steps_per_epoch=100, epochs=1):\n",
        "    \n",
        "    triplet_net.fit(get_batch(triplet_net, batch_size, X_train, hard_selection),\n",
        "                    steps_per_epoch=steps_per_epoch, \n",
        "                    epochs=epochs)"
      ],
      "execution_count": 0,
      "outputs": []
    },
    {
      "cell_type": "markdown",
      "metadata": {
        "colab_type": "text",
        "id": "LP1oojLhXD2z"
      },
      "source": [
        "### Task 2.4: One-shot learning with different selection method (2pt)"
      ]
    },
    {
      "cell_type": "markdown",
      "metadata": {
        "colab_type": "text",
        "id": "XHGJp45AR1qm"
      },
      "source": [
        "Function \"make_oneshot_task\" that can randomly setup such a one-shot task from a given test set (if a language is specified, using only classes/characters from that language), i.e. it will generate N pairs of images, where the first image is always the test image, and the second image is one of the N reference images. The pair of images from the same class will have target 1, all other targets are 0.\n",
        "\n",
        "The function \"test_oneshot\" will generate a number (k) of such one-shot tasks and evaluate the performance of a given model on these tasks; it reports the percentage of correctly classified test images\n",
        "\n",
        "In \"test_oneshot\", you can use embeddings extracted from the triplet network with L2-distance to evaluate one-shot learning. i.e. for a given one-shot task, obtain embeddings for the test image as well as the support set. Then pick the image from the support set that is closest (in L2-distance) to the test image as your one-shot prediction.\n",
        "\n",
        "*HINT you can re-use some code from practice 4b.4*"
      ]
    },
    {
      "cell_type": "code",
      "metadata": {
        "colab_type": "code",
        "id": "RBgoMDwMAuOh",
        "colab": {}
      },
      "source": [
        "def make_oneshot_task(N, X, c, language=None):\n",
        "    \"\"\"Create pairs of (test image, support set image) with ground truth, for testing N-way one-shot learning.\"\"\"\n",
        "    n_classes, n_examples, w, h = X.shape\n",
        "    indices = np.random.randint(0, n_examples, size=(N,))\n",
        "    if language is not None:\n",
        "        low, high = c[language]\n",
        "        if N > high - low:\n",
        "            raise ValueError(\"This language ({}) has less than {} letters\".format(language, N))\n",
        "        categories = np.random.choice(range(low,high), size=(N,), replace=False)\n",
        "    else:  # if no language specified just pick a bunch of random letters\n",
        "        categories = np.random.choice(range(n_classes), size=(N,), replace=False)            \n",
        "    true_category = categories[0]\n",
        "    ex1, ex2 = np.random.choice(n_examples, replace=False, size=(2,))\n",
        "    test_image = np.asarray([X[true_category, ex1, :, :]]*N).reshape(N, w, h, 1)\n",
        "    support_set = X[categories, indices, :, :]\n",
        "    support_set[0, :, :] = X[true_category, ex2]\n",
        "    support_set = support_set.reshape(N, w, h, 1)\n",
        "    targets = np.zeros((N,))\n",
        "    targets[0] = 1\n",
        "    targets, test_image, support_set = shuffle(targets, test_image, support_set)\n",
        "    pairs = [test_image, support_set]\n",
        "    return np.array(pairs), np.array(targets)\n"
      ],
      "execution_count": 0,
      "outputs": []
    },
    {
      "cell_type": "code",
      "metadata": {
        "colab_type": "code",
        "id": "rk5F3ffuAuOl",
        "colab": {}
      },
      "source": [
        "def test_oneshot(triplet_net, X, k, c):\n",
        "    # === COMPLETE CODE BELOW ===       \n",
        "    n_correct = 0\n",
        "    \n",
        "    #extract convolutional base from triplet net\n",
        "    conv_base = triplet_net.get_layer(\"conv_base\")\n",
        "    \n",
        "    for i in range(k):\n",
        "        imagePairs, targets = make_oneshot_task(20, X, c)\n",
        "        \n",
        "        test_embed = conv_base.predict(imagePairs[np.newaxis, 0, 0])[:,0]\n",
        "        \n",
        "        predicted_embed = conv_base.predict(imagePairs[1])[:,0]\n",
        "        \n",
        "        distances = euclidean_distances(test_embed, predicted_embed)[0]\n",
        "        \n",
        "        if np.argmin(distances)  == np.argmax(targets):\n",
        "            \n",
        "            n_correct += 1\n",
        "    \n",
        "    percent_correct = 100.0 * n_correct / k\n",
        "  \n",
        "    return percent_correct"
      ],
      "execution_count": 0,
      "outputs": []
    },
    {
      "cell_type": "markdown",
      "metadata": {
        "colab_type": "text",
        "id": "u6yMu4jlXD26"
      },
      "source": [
        "With different triplets selecting method (random and hard), we will train our model and evaluate the model by one-shot learning accuracy.\n",
        "\n",
        "* You need to explicitly state the accuracy under different  triplets selecting method\n",
        "* When evaluating model with test_oneshot function, you should evaluate on 20 way one-shot task, and set the number (k) of evaluation one-shot tasks to be 250, then calculate the average accuracy\n",
        "\n",
        "*HINT: After training our model with random selection method, before train model under hard triplets selection, we should re-build our model (re-run the cell in Task 2.1) to initialize our model and prevent re-use the trained model of random selection*"
      ]
    },
    {
      "cell_type": "markdown",
      "metadata": {
        "colab_type": "text",
        "id": "snKKGhIoXD27"
      },
      "source": [
        "#### Evaluate one-shot learning with  random triplets selection"
      ]
    },
    {
      "cell_type": "code",
      "metadata": {
        "colab_type": "code",
        "id": "e-r2qB5dAuOt",
        "colab": {
          "base_uri": "https://localhost:8080/",
          "height": 544
        },
        "outputId": "c3f9fe41-49f4-4b6c-fef4-7e5df5190b8e"
      },
      "source": [
        "# hard_selection == False, selcet triplets randomly\n",
        "# Train our model and evaluate the model by one-shot learning accuracy.\n",
        "loops = 10\n",
        "best_acc = 0\n",
        "k=250\n",
        "\n",
        "for i in range(loops):\n",
        "    print(\"=== Training loop {} ===\".format(i+1))\n",
        "    # === ADD CODE HERE ===\n",
        "    train(triplet_net, X_train, hard_selection = False)\n",
        "    test_acc = test_oneshot(triplet_net, X_test, k, c_test)\n",
        "    if test_acc >= best_acc:\n",
        "        print(\"New best one-shot accuracy ({}), saving model ...\".format(test_acc))\n",
        "        triplet_net.save(os.path.join(PATH, \"triplet_omniglot_random.h5\"))\n",
        "        best_acc = test_acc\n",
        "    else:\n",
        "        print(\"Accuracy ({}) not improved.\".format(test_acc))\n",
        "\n",
        "print(\"Best accuracy for random triplet selection: {}\".format(best_acc))\n",
        "\n"
      ],
      "execution_count": 37,
      "outputs": [
        {
          "output_type": "stream",
          "text": [
            "=== Training loop 1 ===\n",
            "100/100 [==============================] - 9s 94ms/step - loss: 21.6157\n",
            "New best one-shot accuracy (71.6), saving model ...\n",
            "=== Training loop 2 ===\n",
            "100/100 [==============================] - 9s 95ms/step - loss: 22.0707\n",
            "Accuracy (64.8) not improved.\n",
            "=== Training loop 3 ===\n",
            "100/100 [==============================] - 9s 95ms/step - loss: 22.9208\n",
            "Accuracy (64.0) not improved.\n",
            "=== Training loop 4 ===\n",
            "100/100 [==============================] - 9s 95ms/step - loss: 24.0195\n",
            "Accuracy (69.2) not improved.\n",
            "=== Training loop 5 ===\n",
            "100/100 [==============================] - 9s 94ms/step - loss: 22.7985\n",
            "Accuracy (68.4) not improved.\n",
            "=== Training loop 6 ===\n",
            "100/100 [==============================] - 9s 94ms/step - loss: 21.5618\n",
            "Accuracy (66.4) not improved.\n",
            "=== Training loop 7 ===\n",
            "100/100 [==============================] - 9s 94ms/step - loss: 21.8006\n",
            "Accuracy (70.0) not improved.\n",
            "=== Training loop 8 ===\n",
            "100/100 [==============================] - 9s 94ms/step - loss: 21.2317\n",
            "Accuracy (67.2) not improved.\n",
            "=== Training loop 9 ===\n",
            "100/100 [==============================] - 9s 95ms/step - loss: 21.4629\n",
            "Accuracy (67.6) not improved.\n",
            "=== Training loop 10 ===\n",
            "100/100 [==============================] - 9s 94ms/step - loss: 21.7195\n",
            "New best one-shot accuracy (72.0), saving model ...\n",
            "Best accuracy for random triplet selection: 72.0\n"
          ],
          "name": "stdout"
        }
      ]
    },
    {
      "cell_type": "markdown",
      "metadata": {
        "colab_type": "text",
        "id": "YLlvr6TRXD2-"
      },
      "source": [
        "#### Evaluate one-shot learning with  hard triplets selection"
      ]
    },
    {
      "cell_type": "code",
      "metadata": {
        "colab_type": "code",
        "id": "CN_IDkRHqjb5",
        "colab": {
          "base_uri": "https://localhost:8080/",
          "height": 544
        },
        "outputId": "dec8cf9f-3ac4-4cf4-9b87-dc097cde4ddf"
      },
      "source": [
        "# hard_selection == True, selcet hard triplets\n",
        "# Train our model and evaluate the model by one-shot learning accuracy.\n",
        "loops = 10\n",
        "best_acc = 0\n",
        "k=250\n",
        "\n",
        "for i in range(loops):\n",
        "    print(\"=== Training loop {} ===\".format(i+1))\n",
        "    # === ADD CODE HERE ===\n",
        "    train(triplet_net, X_train, hard_selection = True)\n",
        "    test_acc = test_oneshot(triplet_net, X_test, k, c_test)\n",
        "    if test_acc >= best_acc:\n",
        "        print(\"New best one-shot accuracy ({}), saving model ...\".format(test_acc))\n",
        "        triplet_net.save(os.path.join(PATH, \"triplet_omniglot_hard.h5\"))\n",
        "        best_acc = test_acc\n",
        "    \n",
        "    else:\n",
        "        print(\"Accuracy ({}) not improved.\".format(test_acc))\n",
        "\n",
        "\n",
        "print(\"Best accuracy for hard triplet selection: {}\".format(best_acc))"
      ],
      "execution_count": 38,
      "outputs": [
        {
          "output_type": "stream",
          "text": [
            "=== Training loop 1 ===\n",
            "100/100 [==============================] - 372s 4s/step - loss: 32.5352\n",
            "New best one-shot accuracy (74.0), saving model ...\n",
            "=== Training loop 2 ===\n",
            "100/100 [==============================] - 372s 4s/step - loss: 33.7159\n",
            "New best one-shot accuracy (76.4), saving model ...\n",
            "=== Training loop 3 ===\n",
            "100/100 [==============================] - 372s 4s/step - loss: 33.2139\n",
            "New best one-shot accuracy (76.8), saving model ...\n",
            "=== Training loop 4 ===\n",
            "100/100 [==============================] - 367s 4s/step - loss: 32.2524\n",
            "Accuracy (75.6) not improved.\n",
            "=== Training loop 5 ===\n",
            "100/100 [==============================] - 364s 4s/step - loss: 33.5707\n",
            "New best one-shot accuracy (78.0), saving model ...\n",
            "=== Training loop 6 ===\n",
            "100/100 [==============================] - 368s 4s/step - loss: 32.8368\n",
            "New best one-shot accuracy (79.6), saving model ...\n",
            "=== Training loop 7 ===\n",
            "100/100 [==============================] - 371s 4s/step - loss: 32.3397\n",
            "Accuracy (74.0) not improved.\n",
            "=== Training loop 8 ===\n",
            "100/100 [==============================] - 368s 4s/step - loss: 32.2359\n",
            "Accuracy (78.0) not improved.\n",
            "=== Training loop 9 ===\n",
            "100/100 [==============================] - 368s 4s/step - loss: 31.4288\n",
            "New best one-shot accuracy (82.0), saving model ...\n",
            "=== Training loop 10 ===\n",
            "100/100 [==============================] - 370s 4s/step - loss: 31.6491\n",
            "Accuracy (76.8) not improved.\n",
            "Best accuracy for hard triplet selection: 82.0\n"
          ],
          "name": "stdout"
        }
      ]
    }
  ]
}