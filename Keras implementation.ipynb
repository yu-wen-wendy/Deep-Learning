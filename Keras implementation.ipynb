{
  "nbformat": 4,
  "nbformat_minor": 0,
  "metadata": {
    "colab": {
      "name": "Assignment_1_(TF_2)_YU-WEN HUANG_Group96.ipynb",
      "provenance": [],
      "collapsed_sections": []
    },
    "kernelspec": {
      "name": "python3",
      "display_name": "Python 3"
    },
    "accelerator": "GPU"
  },
  "cells": [
    {
      "cell_type": "markdown",
      "metadata": {
        "id": "7ORVPadj7rKq",
        "colab_type": "text"
      },
      "source": [
        "# Assignment 1\n",
        "\n",
        "<b>Group [96]</b>\n",
        "* <b> Student 1 </b> : YU-WEN HUANG + 1513753\n",
        "\n",
        "**Reading material**\n",
        "* [1] Mikolov, Tomas, et al. \"[Efficient Estimation of Word Representations in Vector Space](https://arxiv.org/abs/1301.3781)\" Advances in neural information processing systems. 2013. \n",
        "\n",
        "<b><font color='red'>NOTE</font></b> When submitting your notebook, please make sure that the training history of your model is visible in the output. This means that you should **NOT** clean your output cells of the notebook. Make sure that your notebook runs without errors in linear order.\n",
        "\n"
      ]
    },
    {
      "cell_type": "markdown",
      "metadata": {
        "id": "6rQwLyiMFu_1",
        "colab_type": "text"
      },
      "source": [
        "# Question 1 - Keras implementation (10 pt)\n",
        "\n",
        "### Word embeddings\n",
        "Build word embeddings with a Keras implementation where the embedding vector is of length 50, 150 and 300. Use the Alice in Wonderland text book for training. Use a window size of 2 to train the embeddings (`window_size` in the jupyter notebook). \n",
        "\n",
        "1. Build word embeddings of length 50, 150 and 300 using the Skipgram model\n",
        "2. Build word embeddings of length 50, 150 and 300 using CBOW model\n",
        "3. Analyze the different word embeddings:\n",
        "    - Implement your own function to perform the analogy task (see [1] for concrete examples). Use the same distance metric as in the paper. Do not use existing libraries for this task such as Gensim. \n",
        "Your function should be able to answer whether an analogy like: \"a king is to a queen as a man is to a woman\" ($e_{king} - e_{queen} + e_{woman} \\approx e_{man}$) is true. $e_{x}$ denotes the embedding of word $x$. We want to find the word $p$ in the vocabulary, where the embedding of $p$ ($e_p$) is the closest to the predicted embedding (i.e. result of the formula). Then, we can check if $p$ is the same word as the true word $t$.\n",
        "    - Give at least 5 different  examples of analogies.\n",
        "    - Compare the performance on the analogy tasks between the word embeddings and briefly discuss your results.\n",
        "\n",
        "4. Discuss:\n",
        "  - Given the same number of sentences as input, CBOW and Skipgram arrange the data into different number of training samples. Which one has more and why?\n",
        "\n",
        "\n",
        "<b>HINT</b> See practical 3.1 for some helpful code to start this assignment.\n"
      ]
    },
    {
      "cell_type": "markdown",
      "metadata": {
        "id": "ctoyAoX1AI6T",
        "colab_type": "text"
      },
      "source": [
        "### Import libraries"
      ]
    },
    {
      "cell_type": "code",
      "metadata": {
        "id": "x5VOelR7BYQ1",
        "colab_type": "code",
        "colab": {}
      },
      "source": [
        "%tensorflow_version 2.x"
      ],
      "execution_count": 0,
      "outputs": []
    },
    {
      "cell_type": "code",
      "metadata": {
        "id": "vCnATRPgBZEd",
        "colab_type": "code",
        "colab": {
          "base_uri": "https://localhost:8080/",
          "height": 34
        },
        "outputId": "30de197b-4ff0-4e7c-a526-86c659c3baa5"
      },
      "source": [
        "import numpy as np\n",
        "import keras.backend as K\n",
        "import tensorflow as tf\n",
        "from tensorflow import keras\n",
        "\n",
        "from tensorflow.keras.models import Sequential\n",
        "from tensorflow.keras.layers import Dense, Embedding, Reshape, Lambda, Flatten\n",
        "from tensorflow.keras.utils import to_categorical\n",
        "from tensorflow.keras.preprocessing.text import Tokenizer\n",
        "from tensorflow.keras.utils import plot_model\n",
        "from tensorflow.keras.preprocessing import sequence\n",
        "from tensorflow.keras.optimizers import Nadam, Adadelta\n",
        "\n",
        "\n",
        "# other helpful libraries\n",
        "from sklearn.manifold import TSNE\n",
        "from sklearn.metrics.pairwise import cosine_similarity\n",
        "from sklearn.neighbors import NearestNeighbors as nn\n",
        "from matplotlib import pylab\n",
        "import pandas as pd"
      ],
      "execution_count": 5,
      "outputs": [
        {
          "output_type": "stream",
          "text": [
            "Using TensorFlow backend.\n"
          ],
          "name": "stderr"
        }
      ]
    },
    {
      "cell_type": "code",
      "metadata": {
        "id": "qBNCPtOoBbB1",
        "colab_type": "code",
        "outputId": "cbdfd78d-e098-4a79-b534-81ce46d6f1ca",
        "colab": {
          "base_uri": "https://localhost:8080/",
          "height": 34
        }
      },
      "source": [
        "print(tf.__version__) #  check what version of TF is imported"
      ],
      "execution_count": 6,
      "outputs": [
        {
          "output_type": "stream",
          "text": [
            "2.2.0\n"
          ],
          "name": "stdout"
        }
      ]
    },
    {
      "cell_type": "markdown",
      "metadata": {
        "id": "WCd0zUO1AKjY",
        "colab_type": "text"
      },
      "source": [
        "### Import file\n",
        "\n",
        "If you use Google Colab, you need to mount your Google Drive to the notebook when you want to use files that are located in your Google Drive. Paste the authorization code, from the new tab page that opens automatically when running the cell, in the cell below."
      ]
    },
    {
      "cell_type": "code",
      "metadata": {
        "id": "DdjNeehKBd-a",
        "colab_type": "code",
        "outputId": "995356ae-67cc-45db-e03e-0bd6dbc538b9",
        "colab": {
          "base_uri": "https://localhost:8080/",
          "height": 34
        }
      },
      "source": [
        "from google.colab import drive\n",
        "drive.mount('/content/drive')"
      ],
      "execution_count": 7,
      "outputs": [
        {
          "output_type": "stream",
          "text": [
            "Drive already mounted at /content/drive; to attempt to forcibly remount, call drive.mount(\"/content/drive\", force_remount=True).\n"
          ],
          "name": "stdout"
        }
      ]
    },
    {
      "cell_type": "markdown",
      "metadata": {
        "id": "UjIVBt8YGUaO",
        "colab_type": "text"
      },
      "source": [
        "Navigate to the folder in which `alice.txt` is located. Make sure to start path with '/content/drive/My Drive/' if you want to load the file from your Google Drive."
      ]
    },
    {
      "cell_type": "code",
      "metadata": {
        "id": "iS0-uINUBfic",
        "colab_type": "code",
        "outputId": "0e957a85-523e-4cdf-c1e6-8b7c09d6f596",
        "colab": {
          "base_uri": "https://localhost:8080/",
          "height": 34
        }
      },
      "source": [
        "cd '/content/drive/My Drive/Colab Notebooks/DL course/'"
      ],
      "execution_count": 8,
      "outputs": [
        {
          "output_type": "stream",
          "text": [
            "/content/drive/My Drive/Colab Notebooks/DL course\n"
          ],
          "name": "stdout"
        }
      ]
    },
    {
      "cell_type": "code",
      "metadata": {
        "id": "Gz8Z5gCDBhSl",
        "colab_type": "code",
        "colab": {}
      },
      "source": [
        "file_name = 'alice.txt'\n",
        "corpus = open(file_name).readlines()"
      ],
      "execution_count": 0,
      "outputs": []
    },
    {
      "cell_type": "markdown",
      "metadata": {
        "id": "zkbk32wHANnD",
        "colab_type": "text"
      },
      "source": [
        "### Data preprocessing\n",
        "\n",
        "See Practical 3.1 for an explanation of the preprocessing steps done below."
      ]
    },
    {
      "cell_type": "code",
      "metadata": {
        "id": "37PyOHq2BkY4",
        "colab_type": "code",
        "colab": {}
      },
      "source": [
        "# Removes sentences with fewer than 3 words\n",
        "corpus = [sentence for sentence in corpus if sentence.count(\" \") >= 2]\n",
        "\n",
        "# remove punctuation in text and fit tokenizer on entire corpus\n",
        "tokenizer = Tokenizer(filters='!\"#$%&()*+,-./:;<=>?@[\\\\]^_`{|}~\\t\\n'+\"'\")\n",
        "tokenizer.fit_on_texts(corpus)\n",
        "\n",
        "# convert text to sequence of integer values\n",
        "corpus = tokenizer.texts_to_sequences(corpus)\n",
        "n_samples = sum(len(s) for s in corpus) # total number of words in the corpus\n",
        "V = len(tokenizer.word_index) + 1 # total number of unique words in the corpus"
      ],
      "execution_count": 0,
      "outputs": []
    },
    {
      "cell_type": "code",
      "metadata": {
        "id": "ILdA_IimBlte",
        "colab_type": "code",
        "outputId": "11b96686-0698-4d78-b2b6-2fb2e8d77551",
        "colab": {
          "base_uri": "https://localhost:8080/",
          "height": 34
        }
      },
      "source": [
        "n_samples, V"
      ],
      "execution_count": 8,
      "outputs": [
        {
          "output_type": "execute_result",
          "data": {
            "text/plain": [
              "(27165, 2557)"
            ]
          },
          "metadata": {
            "tags": []
          },
          "execution_count": 8
        }
      ]
    },
    {
      "cell_type": "code",
      "metadata": {
        "id": "fRbpue0WBms6",
        "colab_type": "code",
        "outputId": "2be548bd-9196-47e8-bf52-d9c7b54071c2",
        "colab": {
          "base_uri": "https://localhost:8080/",
          "height": 34
        }
      },
      "source": [
        "# example of how word to integer mapping looks like in the tokenizer\n",
        "print(list((tokenizer.word_index.items()))[:5])"
      ],
      "execution_count": 9,
      "outputs": [
        {
          "output_type": "stream",
          "text": [
            "[('the', 1), ('and', 2), ('to', 3), ('a', 4), ('it', 5)]\n"
          ],
          "name": "stdout"
        }
      ]
    },
    {
      "cell_type": "code",
      "metadata": {
        "id": "Er86VxH9BqI9",
        "colab_type": "code",
        "colab": {}
      },
      "source": [
        "# parameters\n",
        "window_size = 2\n",
        "window_size_corpus = 4\n",
        "\n"
      ],
      "execution_count": 0,
      "outputs": []
    },
    {
      "cell_type": "markdown",
      "metadata": {
        "id": "M0sU1JORATvX",
        "colab_type": "text"
      },
      "source": [
        "## Task 1.1 - Skipgram\n",
        "Build word embeddings of length 50, 150 and 300 using the Skipgram model."
      ]
    },
    {
      "cell_type": "code",
      "metadata": {
        "id": "Udp1xKcDBu0v",
        "colab_type": "code",
        "outputId": "f9f3d08e-41ee-4c77-9235-5c533116c67d",
        "colab": {
          "base_uri": "https://localhost:8080/",
          "height": 34
        }
      },
      "source": [
        "#prepare data for skipgram\n",
        "# Hyper parameters for the models\n",
        "epochs = 10\n",
        "batch_size = 64\n",
        "dims = [50, 150, 300]\n",
        "# def generate_data_skipgram(corpus, window_size, V):\n",
        "    # TODO Implement here\n",
        "    # HINT: see Practical 3.1\n",
        "\n",
        "def generate_skipgram(corpus, window_size, V):\n",
        "    maxlen = window_size*2\n",
        "    all_in = []\n",
        "    all_out = []\n",
        "    for words in corpus:\n",
        "        L = len(words)\n",
        "        for index, word in enumerate(words):\n",
        "            p = index - window_size\n",
        "            n = index + window_size + 1\n",
        "            for i in range(p, n):\n",
        "                if i != index and 0 <= i < L:\n",
        "                    all_in.append(word)\n",
        "                    all_out.append(to_categorical(words[i], V))\n",
        "                                      \n",
        "    return (np.array(all_in),np.array(all_out))\n",
        "\n",
        "x_skipgram , y_skipgram = generate_skipgram(corpus,window_size,V)\n",
        "x_skipgram.shape, y_skipgram.shape"
      ],
      "execution_count": 14,
      "outputs": [
        {
          "output_type": "execute_result",
          "data": {
            "text/plain": [
              "((94556,), (94556, 2557))"
            ]
          },
          "metadata": {
            "tags": []
          },
          "execution_count": 14
        }
      ]
    },
    {
      "cell_type": "code",
      "metadata": {
        "id": "qXBGNrKTB0tO",
        "colab_type": "code",
        "colab": {}
      },
      "source": [
        "# create training data\n",
        "x , y = generate_skipgram(corpus,window_size,V)"
      ],
      "execution_count": 0,
      "outputs": []
    },
    {
      "cell_type": "code",
      "metadata": {
        "id": "J1FTkStoDLFQ",
        "colab_type": "code",
        "outputId": "f92b98ab-5fba-451a-a8ff-18fe483984f1",
        "colab": {
          "base_uri": "https://localhost:8080/",
          "height": 1000
        }
      },
      "source": [
        "# create skipgram architecture\n",
        "skipgram_models = {}\n",
        "# save embeddings for vectors of length 50, 150 and 300 using skipgram model\n",
        "dims = [50, 150, 300]\n",
        "for dim in dims:\n",
        "    # skipgram = Sequential([\n",
        "    #         Embedding(input_dim=V, output_dim=dim, input_length=1, embeddings_initializer=\"glorot_uniform\", name='embedding'),Flatten(),\n",
        "    #         Dense(V, activation=\"softmax\", kernel_initializer=\"glorot_uniform\")\n",
        "    # ])\n",
        "\n",
        "    skipgram = Sequential()\n",
        "    skipgram.add(Embedding(input_dim=V, output_dim=dim, embeddings_initializer='glorot_uniform', input_length=1,name='embedding'))\n",
        "    skipgram.add(Reshape((dim, )))\n",
        "    skipgram.add(Dense(V, kernel_initializer='glorot_uniform', activation='softmax'))\n",
        "    optim = Nadam(learning_rate=4e-3)\n",
        "    skipgram.compile(loss='categorical_crossentropy', optimizer=optim, metrics=['accuracy'])\n",
        "    # train skipgram model\n",
        "    skipgram.fit(x_skipgram, y_skipgram, batch_size=batch_size, epochs=epochs, validation_split=0)\n",
        "    model_name = f\"skipgram_{dim}\"\n",
        "    skipgram_models[model_name] = skipgram\n",
        "    # The embedding matrix is saved in the weights of the model\n",
        "    weights = skipgram.get_weights()\n",
        "    embedding = weights[0]\n",
        "    temp = embedding.shape[1]\n",
        "    columns = [\"word\"] + [f\"features_{i + 1}\" for i in range(temp)]\n",
        "    with open(f\"vectors_{model_name}.txt\" ,'w') as f:\n",
        "        f.write(\",\".join(columns))\n",
        "        f.write(\"\\n\")\n",
        "        for word, i in tokenizer.word_index.items():\n",
        "            f.write(word)\n",
        "            f.write(\",\")\n",
        "            f.write(\",\".join(map(str, list(embedding[i,:]))))\n",
        "            f.write(\"\\n\")"
      ],
      "execution_count": 16,
      "outputs": [
        {
          "output_type": "stream",
          "text": [
            "Epoch 1/10\n",
            "1478/1478 [==============================] - 7s 5ms/step - loss: 6.0951 - accuracy: 0.0669\n",
            "Epoch 2/10\n",
            "1478/1478 [==============================] - 7s 5ms/step - loss: 5.6679 - accuracy: 0.0858\n",
            "Epoch 3/10\n",
            "1478/1478 [==============================] - 7s 5ms/step - loss: 5.4728 - accuracy: 0.0948\n",
            "Epoch 4/10\n",
            "1478/1478 [==============================] - 7s 5ms/step - loss: 5.3111 - accuracy: 0.0994\n",
            "Epoch 5/10\n",
            "1478/1478 [==============================] - 7s 5ms/step - loss: 5.1788 - accuracy: 0.1020\n",
            "Epoch 6/10\n",
            "1478/1478 [==============================] - 8s 5ms/step - loss: 5.0709 - accuracy: 0.1032\n",
            "Epoch 7/10\n",
            "1478/1478 [==============================] - 8s 5ms/step - loss: 4.9842 - accuracy: 0.1024\n",
            "Epoch 8/10\n",
            "1478/1478 [==============================] - 7s 5ms/step - loss: 4.9129 - accuracy: 0.1036\n",
            "Epoch 9/10\n",
            "1478/1478 [==============================] - 7s 5ms/step - loss: 4.8553 - accuracy: 0.1027\n",
            "Epoch 10/10\n",
            "1478/1478 [==============================] - 7s 5ms/step - loss: 4.8070 - accuracy: 0.1016\n",
            "Epoch 1/10\n",
            "1478/1478 [==============================] - 9s 6ms/step - loss: 6.0256 - accuracy: 0.0740\n",
            "Epoch 2/10\n",
            "1478/1478 [==============================] - 9s 6ms/step - loss: 5.5163 - accuracy: 0.0892\n",
            "Epoch 3/10\n",
            "1478/1478 [==============================] - 9s 6ms/step - loss: 5.2100 - accuracy: 0.0946\n",
            "Epoch 4/10\n",
            "1478/1478 [==============================] - 9s 6ms/step - loss: 4.9779 - accuracy: 0.0943\n",
            "Epoch 5/10\n",
            "1478/1478 [==============================] - 9s 6ms/step - loss: 4.8218 - accuracy: 0.0925\n",
            "Epoch 6/10\n",
            "1478/1478 [==============================] - 9s 6ms/step - loss: 4.7214 - accuracy: 0.0910\n",
            "Epoch 7/10\n",
            "1478/1478 [==============================] - 9s 6ms/step - loss: 4.6594 - accuracy: 0.0886\n",
            "Epoch 8/10\n",
            "1478/1478 [==============================] - 9s 6ms/step - loss: 4.6210 - accuracy: 0.0893\n",
            "Epoch 9/10\n",
            "1478/1478 [==============================] - 9s 6ms/step - loss: 4.5955 - accuracy: 0.0886\n",
            "Epoch 10/10\n",
            "1478/1478 [==============================] - 9s 6ms/step - loss: 4.5779 - accuracy: 0.0875\n",
            "Epoch 1/10\n",
            "1478/1478 [==============================] - 11s 8ms/step - loss: 6.0080 - accuracy: 0.0757\n",
            "Epoch 2/10\n",
            "1478/1478 [==============================] - 11s 8ms/step - loss: 5.4183 - accuracy: 0.0883\n",
            "Epoch 3/10\n",
            "1478/1478 [==============================] - 11s 8ms/step - loss: 5.0676 - accuracy: 0.0881\n",
            "Epoch 4/10\n",
            "1478/1478 [==============================] - 11s 8ms/step - loss: 4.8712 - accuracy: 0.0835\n",
            "Epoch 5/10\n",
            "1478/1478 [==============================] - 11s 8ms/step - loss: 4.7768 - accuracy: 0.0819\n",
            "Epoch 6/10\n",
            "1478/1478 [==============================] - 11s 8ms/step - loss: 4.7282 - accuracy: 0.0829\n",
            "Epoch 7/10\n",
            "1478/1478 [==============================] - 11s 8ms/step - loss: 4.6971 - accuracy: 0.0824\n",
            "Epoch 8/10\n",
            "1478/1478 [==============================] - 11s 8ms/step - loss: 4.6758 - accuracy: 0.0827\n",
            "Epoch 9/10\n",
            "1478/1478 [==============================] - 11s 8ms/step - loss: 4.6620 - accuracy: 0.0830\n",
            "Epoch 10/10\n",
            "1478/1478 [==============================] - 11s 8ms/step - loss: 4.6491 - accuracy: 0.0832\n"
          ],
          "name": "stdout"
        }
      ]
    },
    {
      "cell_type": "markdown",
      "metadata": {
        "id": "yxb3ulOlD1Z2",
        "colab_type": "text"
      },
      "source": [
        "<b>HINT</b>: To increase training speed of your model, you can use the free available GPU power in Google Colab. Go to `Edit` --> `Notebook Settings` --> select `GPU` under `hardware accelerator`."
      ]
    },
    {
      "cell_type": "markdown",
      "metadata": {
        "id": "b4z9Lt6pAZEw",
        "colab_type": "text"
      },
      "source": [
        "## Task 1.2 - CBOW\n",
        "\n",
        "Build word embeddings of length 50, 150 and 300 using CBOW model."
      ]
    },
    {
      "cell_type": "code",
      "metadata": {
        "id": "KMhI_sWFTXDW",
        "colab_type": "code",
        "outputId": "b2c23910-7b75-4805-e95d-f1e40e61e3de",
        "colab": {
          "base_uri": "https://localhost:8080/",
          "height": 1000
        }
      },
      "source": [
        "# prepare data for CBOW\n",
        "def generate_cbow(corpus, window_size, V):\n",
        "    maxlen = window_size*2\n",
        "    all_in = []\n",
        "    all_out = []\n",
        "    for words in corpus:\n",
        "        L = len(words)\n",
        "        for index, word in enumerate(words):\n",
        "            p = index - window_size\n",
        "            n = index + window_size + 1\n",
        "            temp = []\n",
        "            all_out.append(to_categorical(word, V))\n",
        "            for i in range(p, n):\n",
        "                if i != index:\n",
        "                    if 0 <= i < L:\n",
        "                        temp.append(words[i])\n",
        "                    else:\n",
        "                        temp.append(0)\n",
        "            all_in.append(temp)\n",
        "                                      \n",
        "    return (np.array(all_in), np.array(all_out))\n",
        "\n",
        "x_cbow , y_cbow = generate_cbow(corpus,window_size,V)\n",
        "x_cbow.shape, y_cbow.shape\n",
        "\n",
        "# create training data\n",
        "# create CBOW architecture\n",
        "\n",
        "cbow_models = {}\n",
        "\n",
        "# save embeddings for vectors of length 50, 150 and 300 using CBOW model\n",
        "dims = [50, 150, 300]\n",
        "for dim in dims:\n",
        "    skipgram = Sequential()\n",
        "    skipgram.add(Embedding(input_dim=V, output_dim=dim, embeddings_initializer='glorot_uniform', input_length=2 * window_size,name='embedding'))\n",
        "    skipgram.add(Reshape((dim, )))\n",
        "    skipgram.add(Dense(V, kernel_initializer='glorot_uniform', activation='softmax'))\n",
        "    optim = Nadam(learning_rate=4e-3)\n",
        "    # optim = Adadelta(learning_rate=4e-3)\n",
        "    cbow.compile(loss='categorical_crossentropy', optimizer=optim, metrics=['accuracy'])\n",
        "    # train CBOW model\n",
        "    cbow.fit(x_cbow, y_cbow, batch_size=batch_size, epochs=epochs, validation_split=0)\n",
        "    model_name = f\"cbow_{dim}\"\n",
        "    cbow_models[model_name] = cbow\n",
        "    # The embedding matrix is saved in the weights of the model\n",
        "    weights = cbow.get_weights()\n",
        "    embedding = weights[0]\n",
        "    temp = embedding.shape[1]\n",
        "    columns = [\"word\"] + [f\"features_{i + 1}\" for i in range(temp)]\n",
        "    with open(f\"vectors_{model_name}.txt\" ,'w') as f:\n",
        "        f.write(\",\".join(columns))\n",
        "        f.write(\"\\n\")\n",
        "        for word, i in tokenizer.word_index.items():\n",
        "            f.write(word)\n",
        "            f.write(\",\")\n",
        "            f.write(\",\".join(map(str, list(embedding[i,:]))))\n",
        "            f.write(\"\\n\")\n"
      ],
      "execution_count": 18,
      "outputs": [
        {
          "output_type": "stream",
          "text": [
            "Epoch 1/10\n",
            "425/425 [==============================] - 4s 9ms/step - loss: 6.0334 - accuracy: 0.0851\n",
            "Epoch 2/10\n",
            "425/425 [==============================] - 4s 9ms/step - loss: 5.0406 - accuracy: 0.1618\n",
            "Epoch 3/10\n",
            "425/425 [==============================] - 4s 9ms/step - loss: 4.3846 - accuracy: 0.2170\n",
            "Epoch 4/10\n",
            "425/425 [==============================] - 4s 9ms/step - loss: 3.7975 - accuracy: 0.2688\n",
            "Epoch 5/10\n",
            "425/425 [==============================] - 4s 9ms/step - loss: 3.2658 - accuracy: 0.3265\n",
            "Epoch 6/10\n",
            "425/425 [==============================] - 4s 9ms/step - loss: 2.8068 - accuracy: 0.3920\n",
            "Epoch 7/10\n",
            "425/425 [==============================] - 4s 9ms/step - loss: 2.4243 - accuracy: 0.4581\n",
            "Epoch 8/10\n",
            "425/425 [==============================] - 4s 9ms/step - loss: 2.1244 - accuracy: 0.5111\n",
            "Epoch 9/10\n",
            "425/425 [==============================] - 4s 9ms/step - loss: 1.8884 - accuracy: 0.5576\n",
            "Epoch 10/10\n",
            "425/425 [==============================] - 4s 9ms/step - loss: 1.7078 - accuracy: 0.5922\n",
            "Epoch 1/10\n",
            "425/425 [==============================] - 4s 9ms/step - loss: 1.7921 - accuracy: 0.5700\n",
            "Epoch 2/10\n",
            "425/425 [==============================] - 4s 9ms/step - loss: 1.5653 - accuracy: 0.6197\n",
            "Epoch 3/10\n",
            "425/425 [==============================] - 4s 9ms/step - loss: 1.4355 - accuracy: 0.6461\n",
            "Epoch 4/10\n",
            "425/425 [==============================] - 4s 9ms/step - loss: 1.3475 - accuracy: 0.6612\n",
            "Epoch 5/10\n",
            "425/425 [==============================] - 4s 9ms/step - loss: 1.2786 - accuracy: 0.6750\n",
            "Epoch 6/10\n",
            "425/425 [==============================] - 4s 9ms/step - loss: 1.2249 - accuracy: 0.6874\n",
            "Epoch 7/10\n",
            "425/425 [==============================] - 4s 9ms/step - loss: 1.1839 - accuracy: 0.6948\n",
            "Epoch 8/10\n",
            "425/425 [==============================] - 4s 9ms/step - loss: 1.1482 - accuracy: 0.7003\n",
            "Epoch 9/10\n",
            "425/425 [==============================] - 4s 9ms/step - loss: 1.1190 - accuracy: 0.7051\n",
            "Epoch 10/10\n",
            "425/425 [==============================] - 4s 9ms/step - loss: 1.0920 - accuracy: 0.7106\n",
            "Epoch 1/10\n",
            "425/425 [==============================] - 4s 9ms/step - loss: 1.1842 - accuracy: 0.6876\n",
            "Epoch 2/10\n",
            "425/425 [==============================] - 4s 9ms/step - loss: 1.1052 - accuracy: 0.7072\n",
            "Epoch 3/10\n",
            "425/425 [==============================] - 4s 9ms/step - loss: 1.0785 - accuracy: 0.7110\n",
            "Epoch 4/10\n",
            "425/425 [==============================] - 4s 9ms/step - loss: 1.0565 - accuracy: 0.7171\n",
            "Epoch 5/10\n",
            "425/425 [==============================] - 4s 9ms/step - loss: 1.0407 - accuracy: 0.7205\n",
            "Epoch 6/10\n",
            "425/425 [==============================] - 4s 9ms/step - loss: 1.0239 - accuracy: 0.7239\n",
            "Epoch 7/10\n",
            "425/425 [==============================] - 4s 9ms/step - loss: 1.0101 - accuracy: 0.7252\n",
            "Epoch 8/10\n",
            "425/425 [==============================] - 4s 9ms/step - loss: 0.9954 - accuracy: 0.7290\n",
            "Epoch 9/10\n",
            "425/425 [==============================] - 4s 9ms/step - loss: 0.9856 - accuracy: 0.7292\n",
            "Epoch 10/10\n",
            "425/425 [==============================] - 4s 9ms/step - loss: 0.9744 - accuracy: 0.7359\n"
          ],
          "name": "stdout"
        }
      ]
    },
    {
      "cell_type": "markdown",
      "metadata": {
        "id": "rr2BAI4nAfnG",
        "colab_type": "text"
      },
      "source": [
        "## Task 1.3 - Analogy function\n",
        "\n",
        "Implement your own function to perform the analogy task (see [1] for concrete examples). Use the same distance metric as in [1]. Do not use existing libraries for this task such as Gensim. Your function should be able to answer whether an analogy like: \"a king is to a queen as a man is to a woman\" ($e_{king} - e_{queen} + e_{woman} \\approx e_{man}$) is true. \n",
        "\n",
        "In a perfect scenario, we would like that this analogy ( $e_{king} - e_{queen} + e_{woman}$) results in the embedding of the word \"man\". However, it does not always result in exactly the same word embedding. The result of the formula is called the expected or the predicted word embedding. In this context, \"man\" is called the true or the actual word $t$. We want to find the word $p$ in the vocabulary, where the embedding of $p$ ($e_p$) is the closest to the predicted embedding (i.e. result of the formula). Then, we can check if $p$ is the same word as the true word $t$.  \n",
        "\n",
        "You have to answer an analogy function using each embedding for both CBOW and Skipgram model. This means that for each analogy we have 6 outputs. Show the true word (with distance similarity value between predicted embedding and true word embedding, i.e. `sim1`) , the predicted word (with distance similarity value between predicted embedding and the embedding of the word in the vocabulary that is closest to this predicted embedding, i.e. `sim2`) and a boolean answer whether the predicted word **exactly** equals the true word. \n",
        "\n",
        "<b>HINT</b>: to visualize the results of the analogy tasks , you can print them in a table. An example is given below.\n",
        "\n",
        "\n",
        "| Analogy task | True word (sim1)  | Predicted word (sim2) | Embedding | Correct?|\n",
        "|------|------|------|------|------|\n",
        "|  queen is to king as woman is to ?\t | man (sim1) | predictd_word(sim2) | SG_50 | True / False|\n",
        "\n",
        "* Give at least 5 different  examples of analogies.\n",
        "* Compare the performance on the analogy s between the word embeddings and briefly discuss your results."
      ]
    },
    {
      "cell_type": "code",
      "metadata": {
        "id": "i5vV_jjSEeOY",
        "colab_type": "code",
        "outputId": "0ba1799b-99df-4b5e-ebef-3a6795c3e941",
        "colab": {
          "base_uri": "https://localhost:8080/",
          "height": 235
        }
      },
      "source": [
        "extract_embedding = lambda model: model.get_weights()[0]\n",
        "model_names = list(skipgram_models.keys()) + list(cbow_models.keys())\n",
        "embeddings = [extract_embedding(v) for _, v in skipgram_models.items()] + [extract_embedding(v) for _, v in cbow_models.items()]\n",
        "\n",
        "# Define Closest word function\n",
        "def closest_word(model_name, embedded_word, metric=\"cosine\"):\n",
        "    df = pd.read_csv(f\"vectors_{model_name}.txt\", sep=\",\")\n",
        "    words = list(df[\"word\"])\n",
        "    embedded_words = df.iloc[:, 1:].values.astype(np.float)\n",
        "    embedded_word = embedded_word.reshape(1, -1)\n",
        "    sims = cosine_similarity(embedded_word, embedded_words).reshape(-1)\n",
        "    idx = np.argmax(sims)\n",
        "    return words[idx], sims[idx]\n",
        "    \n",
        "#embedding function\n",
        "def embed(word, embedding=embedding, vocab_size = V, tokenizer=tokenizer):\n",
        "    # get the index of the word from the tokenizer, i.e. convert the string to it's corresponding integer in the vocabulary\n",
        "    int_word = tokenizer.texts_to_sequences([word])[0]\n",
        "    # get the one-hot encoding of the word\n",
        "    bin_word = to_categorical(int_word, V)\n",
        "    return np.dot(bin_word, embedding)\n",
        "\n",
        "#test\n",
        "analogies = [('queen', 'king', 'woman', 'man')]\n",
        "# analogies = [('flower','Milk','Bread','egg')]\n",
        "# analogies = [('Car','Driver','Road','Walker')]\n",
        "# analogies = [('Dress','Girl','Skirt','Lady')]\n",
        "# analogies = [('Studio','Single','Apartment','Family')]\n",
        "\n",
        "for queen, king, woman, man in analogies:\n",
        "    task = f\"{queen} is to {king} as {woman} is to ?\"\n",
        "    df = []\n",
        "    for model_name, embedding in zip(model_names, embeddings):\n",
        "        emb1, emb2, emb3, true_emb = embed(queen, embedding), embed(king, embedding), embed(woman, embedding), embed(man, embedding)\n",
        "        predicted_emb = emb2 - emb1 + emb3\n",
        "        sim1 = cosine_similarity(true_emb.reshape(1, -1), predicted_emb.reshape(1, -1)).reshape(-1)[0]\n",
        "        result1 = f\"{man}({sim1})\"\n",
        "        predicted_word, sim2 = closest_word(model_name, predicted_emb)\n",
        "        result2 = f\"{predicted_word}({sim2})\"\n",
        "        result3 = str(predicted_word == man)\n",
        "        vals = {\"Analogy Task\": task, \"True Word(sim1)\": result1, \"Predicted Word(sim2)\": result2, \"Embedding\": model_name, \"Correct?\": result3}\n",
        "        df.append(vals)\n",
        "\n",
        "df = pd.DataFrame(df)\n",
        "df"
      ],
      "execution_count": 41,
      "outputs": [
        {
          "output_type": "execute_result",
          "data": {
            "text/html": [
              "<div>\n",
              "<style scoped>\n",
              "    .dataframe tbody tr th:only-of-type {\n",
              "        vertical-align: middle;\n",
              "    }\n",
              "\n",
              "    .dataframe tbody tr th {\n",
              "        vertical-align: top;\n",
              "    }\n",
              "\n",
              "    .dataframe thead th {\n",
              "        text-align: right;\n",
              "    }\n",
              "</style>\n",
              "<table border=\"1\" class=\"dataframe\">\n",
              "  <thead>\n",
              "    <tr style=\"text-align: right;\">\n",
              "      <th></th>\n",
              "      <th>Analogy Task</th>\n",
              "      <th>True Word(sim1)</th>\n",
              "      <th>Predicted Word(sim2)</th>\n",
              "      <th>Embedding</th>\n",
              "      <th>Correct?</th>\n",
              "    </tr>\n",
              "  </thead>\n",
              "  <tbody>\n",
              "    <tr>\n",
              "      <th>0</th>\n",
              "      <td>queen is to king as woman is to ?</td>\n",
              "      <td>man(0.40918177366256714)</td>\n",
              "      <td>woman(0.5641658265001745)</td>\n",
              "      <td>skipgram_50</td>\n",
              "      <td>False</td>\n",
              "    </tr>\n",
              "    <tr>\n",
              "      <th>1</th>\n",
              "      <td>queen is to king as woman is to ?</td>\n",
              "      <td>man(0.27073967456817627)</td>\n",
              "      <td>woman(0.6491862453459567)</td>\n",
              "      <td>skipgram_150</td>\n",
              "      <td>False</td>\n",
              "    </tr>\n",
              "    <tr>\n",
              "      <th>2</th>\n",
              "      <td>queen is to king as woman is to ?</td>\n",
              "      <td>man(0.25881877541542053)</td>\n",
              "      <td>woman(0.6510149400331547)</td>\n",
              "      <td>skipgram_300</td>\n",
              "      <td>False</td>\n",
              "    </tr>\n",
              "    <tr>\n",
              "      <th>3</th>\n",
              "      <td>queen is to king as woman is to ?</td>\n",
              "      <td>man(0.2200305014848709)</td>\n",
              "      <td>woman(0.6212387719623047)</td>\n",
              "      <td>cbow_50</td>\n",
              "      <td>False</td>\n",
              "    </tr>\n",
              "    <tr>\n",
              "      <th>4</th>\n",
              "      <td>queen is to king as woman is to ?</td>\n",
              "      <td>man(0.2200305014848709)</td>\n",
              "      <td>woman(0.6413854630029787)</td>\n",
              "      <td>cbow_150</td>\n",
              "      <td>False</td>\n",
              "    </tr>\n",
              "    <tr>\n",
              "      <th>5</th>\n",
              "      <td>queen is to king as woman is to ?</td>\n",
              "      <td>man(0.2200305014848709)</td>\n",
              "      <td>woman(0.6465533679559283)</td>\n",
              "      <td>cbow_300</td>\n",
              "      <td>False</td>\n",
              "    </tr>\n",
              "  </tbody>\n",
              "</table>\n",
              "</div>"
            ],
            "text/plain": [
              "                        Analogy Task  ... Correct?\n",
              "0  queen is to king as woman is to ?  ...    False\n",
              "1  queen is to king as woman is to ?  ...    False\n",
              "2  queen is to king as woman is to ?  ...    False\n",
              "3  queen is to king as woman is to ?  ...    False\n",
              "4  queen is to king as woman is to ?  ...    False\n",
              "5  queen is to king as woman is to ?  ...    False\n",
              "\n",
              "[6 rows x 5 columns]"
            ]
          },
          "metadata": {
            "tags": []
          },
          "execution_count": 41
        }
      ]
    },
    {
      "cell_type": "markdown",
      "metadata": {
        "id": "zHP1cp7XS332",
        "colab_type": "text"
      },
      "source": [
        "##Discussion\n",
        "\n",
        "In this model, all the results come to a False. Therefore, in this case, these two are not comparable. Yet, according to the understanding of the two approaches, they have the following characteristics. First of all, CBOW is comparatively faster to train than skip-gram. Secondly, CBOW is better for frequently occurring words while kip-gram works well for less frequently occurring words than CBOW. Third, Skip-gram is slower but works well for the smaller amount of data then CBOW. \n",
        "\n"
      ]
    },
    {
      "cell_type": "markdown",
      "metadata": {
        "id": "5h-OWIF9AsKH",
        "colab_type": "text"
      },
      "source": [
        "## Task 1.4 - Discussion\n",
        "Answer the following question:\n",
        "* Given the same number of sentences as input, CBOW and Skipgram arrange the data into different number of training samples. Which one has more and why?\n",
        "\n",
        "skip-gram takes more number of training samples. First, in CBOW we were trying to predict the focus words given the context words whereas in skip-gram we are trying to do the opposite we try to predict the context words given the focus word.\n",
        "In both the number of parameters to train but in CBOW we had one softmax to train and whereas in skip-gram we have k softmax, hence skip-gram takes more time than CBOW, so, it is computationally more expensive."
      ]
    },
    {
      "cell_type": "markdown",
      "metadata": {
        "id": "mOa7EXhD-saI",
        "colab_type": "text"
      },
      "source": [
        "# Question 2 - Peer review (0 pt):\n",
        "Finally, each group member must write a single paragraph outlining their opinion on the work distribution within the group. Did every group member\n",
        "contribute equally? Did you split up tasks in a fair manner, or jointly worked through the exercises. Do you think that some members of your group deserve a different grade from others? You can use the table below to make an overview of how the tasks were divided:\n",
        "\n"
      ]
    },
    {
      "cell_type": "markdown",
      "metadata": {
        "id": "RWdcoJH__MqP",
        "colab_type": "text"
      },
      "source": [
        "| Student name | Task  |\n",
        "|------|------|\n",
        "| YU-WEN HUANG | I work alone. |\n"
      ]
    }
  ]
}