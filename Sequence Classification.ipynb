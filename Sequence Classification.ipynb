{
  "nbformat": 4,
  "nbformat_minor": 0,
  "metadata": {
    "accelerator": "GPU",
    "colab": {
      "name": "Team96_Assignment-3.1.ipynb",
      "provenance": [],
      "collapsed_sections": []
    },
    "kernelspec": {
      "display_name": "Python 3",
      "language": "python",
      "name": "python3"
    },
    "language_info": {
      "codemirror_mode": {
        "name": "ipython",
        "version": 3
      },
      "file_extension": ".py",
      "mimetype": "text/x-python",
      "name": "python",
      "nbconvert_exporter": "python",
      "pygments_lexer": "ipython3",
      "version": "3.6.8"
    }
  },
  "cells": [
    {
      "cell_type": "markdown",
      "metadata": {
        "colab_type": "text",
        "id": "-5BoXrK_u3u_"
      },
      "source": [
        "# Assignment 3.1. Sequence Classification\n",
        "<b>Group [96]</b>\n",
        "* <b> Student 1 </b> : YU-WEN HUANG + 1513753 "
      ]
    },
    {
      "cell_type": "markdown",
      "metadata": {
        "colab_type": "text",
        "id": "Sr9zwNA-u3vH"
      },
      "source": [
        "# Task: Aspect-level Sentiment Classification(10pt)"
      ]
    },
    {
      "cell_type": "markdown",
      "metadata": {
        "colab_type": "text",
        "id": "Y506kXSAu3vP"
      },
      "source": [
        "Reading material:\n",
        "- [1] R. He, WS. Lee & D. Dahlmeier. Exploiting document knowledge for aspect-level sentiment classification. 2018. https://arxiv.org/abs/1806.04346.\n",
        "\n",
        "\n",
        "Build an attention-based aspect-level sentiment classification model with biLSTM. Your model shall include:\n",
        "\n",
        "- BiLSTM network that learns sentence representation from input sequences.\n",
        "- Attention network that assigns attention score over a sequence of biLSTM hidden states based on aspect terms representation.\n",
        "- Fully connected network that predicts sentiment label, given the representation weighted by the attention score.\n",
        "\n",
        "Requirements:\n",
        "\n",
        "- You shall train your model bsaed on transferring learning. That is, you need first train your model on documnet-level examples. Then the learned weights will be used to initialize aspect-level model and fine tune it on aspect-level examples.\n",
        "- You shall use the alignment score function in attention network as following expression:$$f_{score}(h,t)=tanh(h^TW_a t)$$\n",
        "- You shall evaluate the trained model on the provided test set and show the accuracy on test set.\n"
      ]
    },
    {
      "cell_type": "code",
      "metadata": {
        "colab_type": "code",
        "id": "FB6yxc4BM9uU",
        "outputId": "d922df3e-0b05-474b-ac34-31169266492a",
        "colab": {
          "base_uri": "https://localhost:8080/",
          "height": 122
        }
      },
      "source": [
        "from google.colab import drive\n",
        "drive.mount('/drive')"
      ],
      "execution_count": 1,
      "outputs": [
        {
          "output_type": "stream",
          "text": [
            "Go to this URL in a browser: https://accounts.google.com/o/oauth2/auth?client_id=947318989803-6bn6qk8qdgf4n4g3pfee6491hc0brc4i.apps.googleusercontent.com&redirect_uri=urn%3aietf%3awg%3aoauth%3a2.0%3aoob&response_type=code&scope=email%20https%3a%2f%2fwww.googleapis.com%2fauth%2fdocs.test%20https%3a%2f%2fwww.googleapis.com%2fauth%2fdrive%20https%3a%2f%2fwww.googleapis.com%2fauth%2fdrive.photos.readonly%20https%3a%2f%2fwww.googleapis.com%2fauth%2fpeopleapi.readonly\n",
            "\n",
            "Enter your authorization code:\n",
            "··········\n",
            "Mounted at /drive\n"
          ],
          "name": "stdout"
        }
      ]
    },
    {
      "cell_type": "code",
      "metadata": {
        "colab_type": "code",
        "id": "BPDMoaQNNAC5",
        "colab": {}
      },
      "source": [
        "import os\n",
        "import sys\n",
        "import codecs\n",
        "import operator\n",
        "import numpy as np\n",
        "import re\n",
        "from time import time"
      ],
      "execution_count": 0,
      "outputs": []
    },
    {
      "cell_type": "code",
      "metadata": {
        "colab_type": "code",
        "id": "ymEccUbRNEGd",
        "colab": {}
      },
      "source": [
        "import _pickle as cPickle"
      ],
      "execution_count": 0,
      "outputs": []
    },
    {
      "cell_type": "markdown",
      "metadata": {
        "colab_type": "text",
        "id": "k9TH6Um2s-7d"
      },
      "source": [
        "\n",
        "#Load Data"
      ]
    },
    {
      "cell_type": "code",
      "metadata": {
        "colab_type": "code",
        "id": "LbWy_h2KtNgR",
        "colab": {}
      },
      "source": [
        "def read_pickle(data_path, file_name):\n",
        "\n",
        "    f = open(os.path.join(data_path, file_name), 'rb')\n",
        "    read_file = cPickle.load(f)\n",
        "    f.close()\n",
        "\n",
        "    return read_file\n",
        "\n",
        "def save_pickle(data_path, file_name, data):\n",
        "\n",
        "    f = open(os.path.join(data_path, file_name), 'wb')\n",
        "    cPickle.dump(data, f)\n",
        "    print(\" file saved to: %s\"%(os.path.join(data_path, file_name)))\n",
        "    f.close()"
      ],
      "execution_count": 0,
      "outputs": []
    },
    {
      "cell_type": "code",
      "metadata": {
        "colab_type": "code",
        "id": "fuAMxdYBkv_x",
        "colab": {}
      },
      "source": [
        "aspect_path = '/drive/My Drive/Colab Notebooks/aspect-level' \n",
        "\n",
        "\n",
        "vocab = read_pickle(aspect_path, 'all_vocab.pkl')\n",
        "\n",
        "train_x = read_pickle(aspect_path, 'train_x.pkl')\n",
        "train_y = read_pickle(aspect_path, 'train_y.pkl')\n",
        "dev_x = read_pickle(aspect_path, 'dev_x.pkl')\n",
        "dev_y = read_pickle(aspect_path, 'dev_y.pkl')\n",
        "test_x = read_pickle(aspect_path, 'test_x.pkl')\n",
        "test_y = read_pickle(aspect_path, 'test_y.pkl')\n",
        "\n",
        "train_aspect = read_pickle(aspect_path, 'train_aspect.pkl')\n",
        "dev_aspect = read_pickle(aspect_path, 'dev_aspect.pkl')\n",
        "test_aspect = read_pickle(aspect_path, 'test_aspect.pkl')\n",
        "\n",
        "\n",
        "pretrain_data = read_pickle(aspect_path, 'pretrain_data.pkl')\n",
        "pretrain_label = read_pickle(aspect_path, 'pretrain_label.pkl')"
      ],
      "execution_count": 0,
      "outputs": []
    },
    {
      "cell_type": "code",
      "metadata": {
        "colab_type": "code",
        "id": "rWVgGO8RlVIJ",
        "colab": {}
      },
      "source": [
        "class Dataiterator_doc():\n",
        "    '''\n",
        "      1) Iteration over minibatches using next(); call reset() between epochs to randomly shuffle the data\n",
        "      2) Access to the entire dataset using all()\n",
        "    '''\n",
        "    \n",
        "    def __init__(self, X, y, seq_length=32, decoder_dim=300, batch_size=32):      \n",
        "        self.X = X \n",
        "        self.y = y \n",
        "        self.num_data = len(X) # total number of examples\n",
        "        self.batch_size = batch_size # batch size\n",
        "        self.reset() # initial: shuffling examples and set index to 0\n",
        "    \n",
        "    def __iter__(self): # iterates data\n",
        "        return self\n",
        "\n",
        "\n",
        "    def reset(self): # initials\n",
        "        self.idx = 0\n",
        "        self.order = np.random.permutation(self.num_data) # shuffling examples by providing randomized ids \n",
        "        \n",
        "    def __next__(self): # return model inputs - outputs per batch\n",
        "        X_ids = [] # hold ids per batch \n",
        "        while len(X_ids) < self.batch_size:\n",
        "            X_id = self.order[self.idx] # copy random id from initial shuffling\n",
        "            X_ids.append(X_id)\n",
        "            self.idx += 1 # \n",
        "            if self.idx >= self.num_data: # exception if all examples of data have been seen (iterated)\n",
        "                self.reset()\n",
        "                raise StopIteration()\n",
        "                \n",
        "        batch_X = self.X[np.array(X_ids)] # X values (encoder input) per batch\n",
        "        batch_y = self.y[np.array(X_ids)] # y_in values (decoder input) per batch\n",
        "        return batch_X, batch_y\n",
        "\n",
        "          \n",
        "    def all(self): # return all data examples\n",
        "        return self.X, self.y\n",
        "class Dataiterator_aspect():\n",
        "    '''\n",
        "      1) Iteration over minibatches using next(); call reset() between epochs to randomly shuffle the data\n",
        "      2) Access to the entire dataset using all()\n",
        "    '''\n",
        "    \n",
        "    def __init__(self, aspect_data, seq_length=32, decoder_dim=300, batch_size=32):\n",
        "        \n",
        "        len_aspect_data = len(aspect_data[0])\n",
        "        #self.len_doc_data = len(doc_data[0])\n",
        "        \n",
        "        self.X_aspect = aspect_data[0] \n",
        "        self.y_aspect = aspect_data[1]\n",
        "        self.aspect_terms = aspect_data[2]  \n",
        "        self.num_data = len_aspect_data\n",
        "        self.batch_size = batch_size # batch size\n",
        "        self.reset() # initial: shuffling examples and set index to 0\n",
        "    \n",
        "    def __iter__(self): # iterates data\n",
        "        return self\n",
        "\n",
        "\n",
        "    def reset(self): # initials\n",
        "        self.idx = 0\n",
        "        self.order = np.random.permutation(self.num_data) # shuffling examples by providing randomized ids \n",
        "        \n",
        "    def __next__(self): # return model inputs - outputs per batch\n",
        "        \n",
        "        X_ids = [] # hold ids per batch \n",
        "        while len(X_ids) < self.batch_size:\n",
        "            X_id = self.order[self.idx] # copy random id from initial shuffling\n",
        "            X_ids.append(X_id)\n",
        "            self.idx += 1 # \n",
        "            if self.idx >= self.num_data: # exception if all examples of data have been seen (iterated)\n",
        "                self.reset()\n",
        "                raise StopIteration()\n",
        "                \n",
        "        batch_X_aspect = self.X_aspect[np.array(X_ids)] # X values (encoder input) per batch\n",
        "        batch_y_aspect = self.y_aspect[np.array(X_ids)] # y_in values (decoder input) per batch\n",
        "        batch_aspect_terms = self.aspect_terms[np.array(X_ids)]\n",
        "        \n",
        "        return batch_X_aspect, batch_y_aspect, batch_aspect_terms\n",
        "\n",
        "          \n",
        "    def all(self): # return all data examples\n",
        "        return self.X_aspect, self.y_aspect, self.aspect_terms"
      ],
      "execution_count": 0,
      "outputs": []
    },
    {
      "cell_type": "code",
      "metadata": {
        "colab_type": "code",
        "id": "38IEEx0du3vW",
        "colab": {
          "base_uri": "https://localhost:8080/",
          "height": 34
        },
        "outputId": "9e15ba6a-090b-46bb-87fd-e628e2fb2b5c"
      },
      "source": [
        "from tensorflow import keras\n",
        "from keras.models import Model\n",
        "from keras.layers import Input, Embedding, Dense, Lambda, Dropout, LSTM,Bidirectional\n",
        "from keras.layers import Reshape, Activation, RepeatVector, concatenate, Concatenate, Dot, Multiply\n",
        "import keras.backend as K\n",
        "from keras.engine.topology import Layer\n",
        "from keras import initializers\n",
        "from keras import regularizers\n",
        "from keras import constraints\n"
      ],
      "execution_count": 10,
      "outputs": [
        {
          "output_type": "stream",
          "text": [
            "Using TensorFlow backend.\n"
          ],
          "name": "stderr"
        }
      ]
    },
    {
      "cell_type": "code",
      "metadata": {
        "colab_type": "code",
        "id": "cduHSpsSnVue",
        "colab": {}
      },
      "source": [
        "overal_maxlen = 82\n",
        "overal_maxlen_aspect = 7"
      ],
      "execution_count": 0,
      "outputs": []
    },
    {
      "cell_type": "code",
      "metadata": {
        "id": "31zf5TAd3eOP",
        "colab_type": "code",
        "colab": {}
      },
      "source": [
        "def DecodeSequence(idx):\n",
        "    review = str([list(vocab.keys())[i] for i in train_x[idx] if i!=0])\n",
        "    aspectTerm = [list(vocab.keys())[i] for i in train_aspect[idx]]\n",
        "    target = [\"Positive\", \"Negative\", \"Neutral\"][int(np.nonzero(train_y[idx])[0])] \n",
        "    print(\"Full review: {}\".format(review))\n",
        "    print(\"Aspect terms: {}\".format(aspectTerm))\n",
        "    print(\"Target: {}\".format(target))"
      ],
      "execution_count": 0,
      "outputs": []
    },
    {
      "cell_type": "markdown",
      "metadata": {
        "colab_type": "text",
        "id": "bhTQke3HnvHN"
      },
      "source": [
        "\n",
        "#Define Attention Network Layer\n",
        "- Define class for Attention Layer\n",
        "- You need to finish the code for calculating the attention weights"
      ]
    },
    {
      "cell_type": "code",
      "metadata": {
        "colab_type": "code",
        "id": "cnDX-po3_50B",
        "colab": {}
      },
      "source": [
        "\n",
        "class Attention(Layer):\n",
        "    def __init__(self,  **kwargs):\n",
        "        \"\"\"\n",
        "        Keras Layer that implements an Content Attention mechanism.\n",
        "        Supports Masking.\n",
        "        \"\"\"\n",
        "       \n",
        "        self.supports_masking = True\n",
        "        self.init = initializers.get('glorot_uniform')\n",
        "\n",
        "        super(Attention, self).__init__(**kwargs)\n",
        "\n",
        "    def build(self, input_shape):\n",
        "        assert type(input_shape) == list\n",
        "       \n",
        "        self.steps = input_shape[0][1]\n",
        "\n",
        "        self.W = self.add_weight(shape=(input_shape[0][-1], input_shape[1][-1]),\n",
        "                                 initializer=self.init,\n",
        "                                 name='{}_W'.format(self.name),)\n",
        "\n",
        "        self.built = True\n",
        "\n",
        "    def compute_mask(self, input_tensor, mask=None):\n",
        "        assert type(input_tensor) == list\n",
        "        assert type(mask) == list\n",
        "        return None\n",
        "\n",
        "    def call(self, input_tensor, mask=None):\n",
        "        # x = input_tensor[0]\n",
        "        # aspect = input_tensor[1]\n",
        "        # mask = mask[0]\n",
        "        ###YOUR CODE HERE###\n",
        "        # output of BiLSTM for sentence\n",
        "        x = input_tensor[0]  #(None, 82, 600)\n",
        "        \n",
        "        # output of word embedding layer of aspect terms\n",
        "        aspect = input_tensor[1] #(None, 300)\n",
        "        \n",
        "        # used to remove influence of padded value\n",
        "        #mask = mask[0]\n",
        "        \n",
        "        #(None, 600)\n",
        "        aspect = K.transpose(K.dot(self.W, K.transpose(aspect)))\n",
        "        \n",
        "        #(None, 1, 600)\n",
        "        aspect = K.expand_dims(aspect, axis=-2)\n",
        "        \n",
        "        #(None, 82, 600)\n",
        "        aspect = K.repeat_elements(aspect, self.steps, axis=1)\n",
        "        \n",
        "        #(None, 82)\n",
        "        beta_vec = K.tanh(K.sum(x*aspect, axis=-1))\n",
        "        \n",
        "        #(None, 82)\n",
        "        a = K.exp(beta_vec)\n",
        "        a /= K.cast(K.sum(a, axis=1, keepdims=True) + K.epsilon(), K.floatx())\n",
        "        \n",
        "        return a\n",
        "\n",
        "   \n",
        "    def compute_output_shape(self, input_shape):\n",
        "        return (input_shape[0][0], input_shape[0][1])\n",
        "\n",
        "\n",
        "\n"
      ],
      "execution_count": 0,
      "outputs": []
    },
    {
      "cell_type": "code",
      "metadata": {
        "colab_type": "code",
        "id": "V5PSPx85EiVn",
        "colab": {}
      },
      "source": [
        "class Average(Layer):\n",
        "  \n",
        "    def __init__(self, mask_zero=True, **kwargs):\n",
        "        self.mask_zero = mask_zero\n",
        "        self.supports_masking = True\n",
        "        super(Average, self).__init__(**kwargs)\n",
        "\n",
        "    def call(self, x,mask=None):\n",
        "        if self.mask_zero:           \n",
        "            mask = K.cast(mask, K.floatx())\n",
        "            mask = K.expand_dims(mask)\n",
        "            x = x * mask\n",
        "            return K.sum(x, axis=1) / (K.sum(mask, axis=1) + K.epsilon())\n",
        "        else:\n",
        "            return K.mean(x, axis=1)\n",
        "\n",
        "    def compute_output_shape(self, input_shape):\n",
        "        return (input_shape[0], input_shape[-1])\n",
        "    \n",
        "    def compute_mask(self, x, mask):\n",
        "        return None"
      ],
      "execution_count": 0,
      "outputs": []
    },
    {
      "cell_type": "markdown",
      "metadata": {
        "colab_type": "text",
        "id": "GsZtx2PbEqoh"
      },
      "source": [
        "#Establish computation Grah for model\n",
        "- Input tensors\n",
        "- Shared WordEmbedding layer \n",
        "- Attention network layer  \n",
        "- Shared BiLSTM layer\n",
        "- Shared fully connected layer(prediction layer)\n"
      ]
    },
    {
      "cell_type": "code",
      "metadata": {
        "colab_type": "code",
        "id": "Xe55OCNZEmYY",
        "colab": {}
      },
      "source": [
        "dropout = 0.5     \n",
        "recurrent_dropout = 0.1\n",
        "vocab_size = len(vocab)\n",
        "num_outputs = 3 # labels"
      ],
      "execution_count": 0,
      "outputs": []
    },
    {
      "cell_type": "markdown",
      "metadata": {
        "colab_type": "text",
        "id": "2BpzACdBp3xG"
      },
      "source": [
        "##Input tensors"
      ]
    },
    {
      "cell_type": "code",
      "metadata": {
        "colab_type": "code",
        "id": "KOi3CcOxE1MG",
        "colab": {}
      },
      "source": [
        "#YOUR CODE HERE ##### Inputs #####\n",
        "sentence_input = Input(shape=(overal_maxlen,), dtype='int32', name='sentence_input')\n",
        "aspect_input = Input(shape=(overal_maxlen_aspect,), dtype='int32', name='aspect_input')\n",
        "pretrain_input = Input(shape=(None,), dtype='int32', name='pretrain_input')"
      ],
      "execution_count": 0,
      "outputs": []
    },
    {
      "cell_type": "markdown",
      "metadata": {
        "colab_type": "text",
        "id": "_vQ0z8KmrL3_"
      },
      "source": [
        "##Shared WordEmbedding layer"
      ]
    },
    {
      "cell_type": "code",
      "metadata": {
        "colab_type": "code",
        "id": "GFEhEt9EE4Sn",
        "colab": {}
      },
      "source": [
        "#YOUR CODE HERE### represent aspect as averaged word embedding ###\n",
        "word_emb = Embedding(vocab_size, 300, mask_zero=True, name='word_emb')\n",
        "aspect_term_embs = word_emb(aspect_input)\n",
        "aspect_embs = Average(mask_zero=True, name='aspect_emb')(aspect_term_embs)"
      ],
      "execution_count": 0,
      "outputs": []
    },
    {
      "cell_type": "code",
      "metadata": {
        "colab_type": "code",
        "id": "8gGd94OGE-Gr",
        "colab": {}
      },
      "source": [
        "#YOUR CODE HERE ### sentence representation from embedding ###\n",
        "sentence_embs = word_emb(sentence_input) # from aspect-level domain\n",
        "pretrain_embs = word_emb(pretrain_input) # from document-level domain"
      ],
      "execution_count": 0,
      "outputs": []
    },
    {
      "cell_type": "markdown",
      "metadata": {
        "colab_type": "text",
        "id": "pmcnAQufrc7o"
      },
      "source": [
        "##Shared BiLSTM layer"
      ]
    },
    {
      "cell_type": "code",
      "metadata": {
        "colab_type": "code",
        "id": "bm_yCjX_F7ml",
        "colab": {}
      },
      "source": [
        "#YOUR CODE HERE ### sentence representation from embedding ###\n",
        "bilstm = Bidirectional(LSTM(300, return_sequences=True, dropout=dropout, recurrent_dropout=recurrent_dropout), name='BiLSTM')\n",
        "pretrain_lstm = bilstm(pretrain_embs) #pretrain the bilstm (no attention involved) MUST BE AVERAGED\n",
        "sentence_lstm = bilstm(sentence_embs) #finetune bilstm with attention mechanism to obtain aspect-level info"
      ],
      "execution_count": 0,
      "outputs": []
    },
    {
      "cell_type": "markdown",
      "metadata": {
        "colab_type": "text",
        "id": "99ZNrbkmrllN"
      },
      "source": [
        "##Attention Layer"
      ]
    },
    {
      "cell_type": "code",
      "metadata": {
        "colab_type": "code",
        "id": "HO5Pj6QANz7U",
        "colab": {}
      },
      "source": [
        "##YOUR CODE HERE\n",
        "attention = Attention()([sentence_lstm, aspect_embs])"
      ],
      "execution_count": 0,
      "outputs": []
    },
    {
      "cell_type": "markdown",
      "metadata": {
        "colab_type": "text",
        "id": "5-LY6jF8r3mO"
      },
      "source": [
        "##Prediction Layer"
      ]
    },
    {
      "cell_type": "code",
      "metadata": {
        "colab_type": "code",
        "id": "nxrmw-Grr6pK",
        "colab": {}
      },
      "source": [
        "#YOUR CODE HERE"
      ],
      "execution_count": 0,
      "outputs": []
    },
    {
      "cell_type": "code",
      "metadata": {
        "colab_type": "code",
        "id": "gLQCpLtHOBBH",
        "colab": {}
      },
      "source": [
        "z = Dot(axes=1)([sentence_lstm, attention])\n",
        "\n",
        "predictionLayer = Dense(3, activation='softmax')\n",
        "\n",
        "aspect_probs = predictionLayer(z)\n",
        "\n",
        "pretrain_avg = Average(mask_zero=True)(pretrain_lstm)\n",
        "pretrain_probs = predictionLayer(pretrain_avg)"
      ],
      "execution_count": 0,
      "outputs": []
    },
    {
      "cell_type": "markdown",
      "metadata": {
        "colab_type": "text",
        "id": "0XLv1t9Ou3vx"
      },
      "source": [
        "#Build Models for document-level and aspect-level data\n",
        "- The two models shared the embedding, BiLSTM, Prediction Layer"
      ]
    },
    {
      "cell_type": "code",
      "metadata": {
        "colab_type": "code",
        "id": "RX8qKfNWu3v0",
        "colab": {
          "base_uri": "https://localhost:8080/",
          "height": 476
        },
        "outputId": "4a1a940b-11f7-4f1a-96ab-bfa9dc29ee0d"
      },
      "source": [
        "### YOUR CODE HERE\n",
        "\n",
        "model1 = Model(inputs=[pretrain_input], outputs=[pretrain_probs])\n",
        "\n",
        "model2 = Model(inputs=[sentence_input, aspect_input], outputs=[aspect_probs])\n",
        "\n",
        "model2.summary()"
      ],
      "execution_count": 32,
      "outputs": [
        {
          "output_type": "stream",
          "text": [
            "Model: \"model_2\"\n",
            "__________________________________________________________________________________________________\n",
            "Layer (type)                    Output Shape         Param #     Connected to                     \n",
            "==================================================================================================\n",
            "sentence_input (InputLayer)     (None, 82)           0                                            \n",
            "__________________________________________________________________________________________________\n",
            "aspect_input (InputLayer)       (None, 7)            0                                            \n",
            "__________________________________________________________________________________________________\n",
            "word_emb (Embedding)            multiple             3000900     aspect_input[0][0]               \n",
            "                                                                 sentence_input[0][0]             \n",
            "__________________________________________________________________________________________________\n",
            "BiLSTM (Bidirectional)          multiple             1442400     word_emb[1][0]                   \n",
            "__________________________________________________________________________________________________\n",
            "aspect_emb (Average)            (None, 300)          0           word_emb[0][0]                   \n",
            "__________________________________________________________________________________________________\n",
            "attention_4 (Attention)         (None, 82)           180000      BiLSTM[1][0]                     \n",
            "                                                                 aspect_emb[0][0]                 \n",
            "__________________________________________________________________________________________________\n",
            "dot_1 (Dot)                     (None, 600)          0           BiLSTM[1][0]                     \n",
            "                                                                 attention_4[0][0]                \n",
            "__________________________________________________________________________________________________\n",
            "dense_1 (Dense)                 (None, 3)            1803        dot_1[0][0]                      \n",
            "==================================================================================================\n",
            "Total params: 4,625,103\n",
            "Trainable params: 4,625,103\n",
            "Non-trainable params: 0\n",
            "__________________________________________________________________________________________________\n"
          ],
          "name": "stdout"
        }
      ]
    },
    {
      "cell_type": "markdown",
      "metadata": {
        "colab_type": "text",
        "id": "FWqofwqBsgsn"
      },
      "source": [
        "#Train Model\n",
        "- First Train model on document-level data.\n",
        "- Then Train  model on aspect-level data"
      ]
    },
    {
      "cell_type": "markdown",
      "metadata": {
        "colab_type": "text",
        "id": "WSLYsZm7yPwi"
      },
      "source": [
        "##Train on document-level data"
      ]
    },
    {
      "cell_type": "code",
      "metadata": {
        "colab_type": "code",
        "id": "GHe86c6Yu3wG",
        "colab": {}
      },
      "source": [
        "import keras.optimizers as opt\n",
        "from sklearn.model_selection import train_test_split\n",
        "\n",
        "# split the training dataset \n",
        "pretrain_data_train, pretrain_data_test, pretrain_label_train, pretrain_label_test = train_test_split(pretrain_data, \n",
        "                                                                                                      pretrain_label, \n",
        "                                                                                                      test_size=0.05, \n",
        "                                                                                                      stratify=pretrain_label)\n",
        "\n",
        "optimizer=opt.RMSprop(lr=0.0005, rho=0.9, epsilon=1e-06, clipnorm=10, clipvalue=0)\n",
        "model1.compile(optimizer=optimizer, loss='categorical_crossentropy', metrics=['categorical_accuracy'])\n",
        "batch_size = 256\n",
        "\n",
        "train_steps_epoch = len(pretrain_data_train)/batch_size\n",
        "batch_train_iter_doc = Dataiterator_doc(pretrain_data_train, pretrain_label_train, batch_size=batch_size)\n",
        "\n",
        "test_steps_epoch = len(pretrain_data_test)/batch_size\n",
        "batch_test_iter_doc = Dataiterator_doc(pretrain_data_test, pretrain_label_test, batch_size=batch_size)"
      ],
      "execution_count": 0,
      "outputs": []
    },
    {
      "cell_type": "code",
      "metadata": {
        "colab_type": "code",
        "id": "HfEvhdbhFlbR",
        "colab": {
          "base_uri": "https://localhost:8080/",
          "height": 187
        },
        "outputId": "e01789aa-46d9-4c61-e8b4-7e5809db8b4c"
      },
      "source": [
        "###YOUR CODE HERE###\n",
        "from keras.callbacks import EarlyStopping, ModelCheckpoint\n",
        "\n",
        "def train_gen_doc():\n",
        "    while True:\n",
        "        for batch in batch_train_iter_doc:\n",
        "            yield batch\n",
        "\n",
        "def test_gen_doc():\n",
        "    while True:\n",
        "        for batch in batch_test_iter_doc:\n",
        "            yield batch\n",
        "\n",
        "history1 = model1.fit_generator(train_gen_doc(), \n",
        "                                steps_per_epoch=train_steps_epoch,\n",
        "                                validation_data=test_gen_doc(),\n",
        "                                validation_steps=test_steps_epoch,\n",
        "                                epochs=20, \n",
        "                                callbacks = [EarlyStopping(monitor='val_loss', patience=2)]\n",
        "                                )\n",
        "# save model \n",
        "model1.save(aspect_path + \"/model1.h5\")"
      ],
      "execution_count": 37,
      "outputs": [
        {
          "output_type": "stream",
          "text": [
            "Epoch 1/20\n",
            "112/111 [==============================] - 162s 1s/step - loss: 0.5706 - categorical_accuracy: 0.7596 - val_loss: 0.6988 - val_categorical_accuracy: 0.7038\n",
            "Epoch 2/20\n",
            "112/111 [==============================] - 162s 1s/step - loss: 0.5557 - categorical_accuracy: 0.7646 - val_loss: 0.6545 - val_categorical_accuracy: 0.7070\n",
            "Epoch 3/20\n",
            "112/111 [==============================] - 162s 1s/step - loss: 0.5380 - categorical_accuracy: 0.7764 - val_loss: 0.6542 - val_categorical_accuracy: 0.6934\n",
            "Epoch 4/20\n",
            "112/111 [==============================] - 162s 1s/step - loss: 0.5185 - categorical_accuracy: 0.7876 - val_loss: 0.7102 - val_categorical_accuracy: 0.6823\n",
            "Epoch 5/20\n",
            "112/111 [==============================] - 161s 1s/step - loss: 0.5014 - categorical_accuracy: 0.7958 - val_loss: 0.7466 - val_categorical_accuracy: 0.6810\n"
          ],
          "name": "stdout"
        }
      ]
    },
    {
      "cell_type": "markdown",
      "metadata": {
        "colab_type": "text",
        "id": "G-SYaHNMyXWX"
      },
      "source": [
        "##Train on aspect-level data"
      ]
    },
    {
      "cell_type": "code",
      "metadata": {
        "id": "unGceNAs4uMX",
        "colab_type": "code",
        "colab": {}
      },
      "source": [
        "batch_size = 128\n"
      ],
      "execution_count": 0,
      "outputs": []
    },
    {
      "cell_type": "code",
      "metadata": {
        "id": "bXHrpbLz4w_S",
        "colab_type": "code",
        "colab": {}
      },
      "source": [
        "train_steps_epoch = len(train_x)/batch_size\n",
        "batch_train_iter_aspect = Dataiterator_aspect([train_x, train_y, train_aspect], batch_size=batch_size)\n",
        "val_steps_epoch = len(dev_x)/batch_size\n",
        "batch_val_iter_aspect = Dataiterator_aspect([dev_x, dev_y, dev_aspect], batch_size=batch_size)\n",
        "\n",
        "import keras.optimizers as opt\n",
        "optimizer = opt.Adam(lr=0.00005, beta_1=0.9, beta_2=0.999, epsilon=1e-08, clipnorm=10, clipvalue=0)\n",
        "model2.compile(optimizer=optimizer, loss='categorical_crossentropy', metrics=['categorical_accuracy'])"
      ],
      "execution_count": 0,
      "outputs": []
    },
    {
      "cell_type": "code",
      "metadata": {
        "colab_type": "code",
        "id": "kvT2GqG0LONz",
        "colab": {
          "base_uri": "https://localhost:8080/",
          "height": 921
        },
        "outputId": "3d6f1265-c0e1-4f62-d3e3-7f6b1ecda328"
      },
      "source": [
        "### YOUR CODE HERE\n",
        "\n",
        "def train_gen_aspect():\n",
        "    while True:\n",
        "        train_batches = [[[X, aspect], [y]] for X, y, aspect in batch_train_iter_aspect]\n",
        "        \n",
        "        for batch in train_batches:\n",
        "            yield batch\n",
        "            \n",
        "def val_gen_aspect():\n",
        "    while True:\n",
        "        val_batches = [[[X, aspect], [y]] for X, y, aspect in batch_val_iter_aspect]\n",
        "        \n",
        "        for batch in val_batches:\n",
        "            yield batch\n",
        "  \n",
        "history2 = model2.fit_generator(train_gen_aspect(), \n",
        "                     steps_per_epoch=train_steps_epoch, \n",
        "                     epochs=25,\n",
        "                     validation_data=val_gen_aspect(),\n",
        "                     validation_steps=val_steps_epoch\n",
        "                     )\n"
      ],
      "execution_count": 40,
      "outputs": [
        {
          "output_type": "stream",
          "text": [
            "/usr/local/lib/python3.6/dist-packages/tensorflow/python/framework/indexed_slices.py:434: UserWarning: Converting sparse IndexedSlices to a dense Tensor of unknown shape. This may consume a large amount of memory.\n",
            "  \"Converting sparse IndexedSlices to a dense Tensor of unknown shape. \"\n"
          ],
          "name": "stderr"
        },
        {
          "output_type": "stream",
          "text": [
            "Epoch 1/25\n",
            "15/14 [===============================] - 7s 479ms/step - loss: 1.0764 - categorical_accuracy: 0.5286 - val_loss: 1.2041 - val_categorical_accuracy: 0.5117\n",
            "Epoch 2/25\n",
            "15/14 [===============================] - 6s 415ms/step - loss: 0.9857 - categorical_accuracy: 0.5594 - val_loss: 1.1347 - val_categorical_accuracy: 0.5430\n",
            "Epoch 3/25\n",
            "15/14 [===============================] - 6s 411ms/step - loss: 0.9332 - categorical_accuracy: 0.5885 - val_loss: 1.0061 - val_categorical_accuracy: 0.5781\n",
            "Epoch 4/25\n",
            "15/14 [===============================] - 6s 420ms/step - loss: 0.9112 - categorical_accuracy: 0.5984 - val_loss: 1.0014 - val_categorical_accuracy: 0.5762\n",
            "Epoch 5/25\n",
            "15/14 [===============================] - 6s 414ms/step - loss: 0.8754 - categorical_accuracy: 0.6130 - val_loss: 0.9020 - val_categorical_accuracy: 0.5508\n",
            "Epoch 6/25\n",
            "15/14 [===============================] - 6s 419ms/step - loss: 0.8701 - categorical_accuracy: 0.6203 - val_loss: 0.9004 - val_categorical_accuracy: 0.5527\n",
            "Epoch 7/25\n",
            "15/14 [===============================] - 6s 420ms/step - loss: 0.8386 - categorical_accuracy: 0.6469 - val_loss: 0.8421 - val_categorical_accuracy: 0.5723\n",
            "Epoch 8/25\n",
            "15/14 [===============================] - 6s 410ms/step - loss: 0.8033 - categorical_accuracy: 0.6552 - val_loss: 0.8923 - val_categorical_accuracy: 0.5938\n",
            "Epoch 9/25\n",
            "15/14 [===============================] - 6s 408ms/step - loss: 0.8146 - categorical_accuracy: 0.6438 - val_loss: 0.8470 - val_categorical_accuracy: 0.6035\n",
            "Epoch 10/25\n",
            "15/14 [===============================] - 6s 416ms/step - loss: 0.8085 - categorical_accuracy: 0.6562 - val_loss: 0.9401 - val_categorical_accuracy: 0.5977\n",
            "Epoch 11/25\n",
            "15/14 [===============================] - 6s 415ms/step - loss: 0.7659 - categorical_accuracy: 0.6812 - val_loss: 0.8274 - val_categorical_accuracy: 0.6172\n",
            "Epoch 12/25\n",
            "15/14 [===============================] - 6s 408ms/step - loss: 0.7404 - categorical_accuracy: 0.6891 - val_loss: 0.8901 - val_categorical_accuracy: 0.6055\n",
            "Epoch 13/25\n",
            "15/14 [===============================] - 6s 415ms/step - loss: 0.7521 - categorical_accuracy: 0.6792 - val_loss: 0.9084 - val_categorical_accuracy: 0.6113\n",
            "Epoch 14/25\n",
            "15/14 [===============================] - 6s 412ms/step - loss: 0.7243 - categorical_accuracy: 0.7063 - val_loss: 0.8790 - val_categorical_accuracy: 0.6133\n",
            "Epoch 15/25\n",
            "15/14 [===============================] - 6s 415ms/step - loss: 0.7156 - categorical_accuracy: 0.7089 - val_loss: 0.8351 - val_categorical_accuracy: 0.6016\n",
            "Epoch 16/25\n",
            "15/14 [===============================] - 6s 414ms/step - loss: 0.7208 - categorical_accuracy: 0.6979 - val_loss: 0.9028 - val_categorical_accuracy: 0.6133\n",
            "Epoch 17/25\n",
            "15/14 [===============================] - 6s 415ms/step - loss: 0.6993 - categorical_accuracy: 0.7229 - val_loss: 0.8915 - val_categorical_accuracy: 0.6133\n",
            "Epoch 18/25\n",
            "15/14 [===============================] - 6s 409ms/step - loss: 0.6995 - categorical_accuracy: 0.7177 - val_loss: 0.9784 - val_categorical_accuracy: 0.6172\n",
            "Epoch 19/25\n",
            "15/14 [===============================] - 6s 422ms/step - loss: 0.6714 - categorical_accuracy: 0.7240 - val_loss: 0.8827 - val_categorical_accuracy: 0.6211\n",
            "Epoch 20/25\n",
            "15/14 [===============================] - 6s 412ms/step - loss: 0.6738 - categorical_accuracy: 0.7333 - val_loss: 0.8694 - val_categorical_accuracy: 0.6172\n",
            "Epoch 21/25\n",
            "15/14 [===============================] - 6s 411ms/step - loss: 0.6747 - categorical_accuracy: 0.7297 - val_loss: 0.9568 - val_categorical_accuracy: 0.6211\n",
            "Epoch 22/25\n",
            "15/14 [===============================] - 6s 410ms/step - loss: 0.6268 - categorical_accuracy: 0.7484 - val_loss: 0.8699 - val_categorical_accuracy: 0.6152\n",
            "Epoch 23/25\n",
            "15/14 [===============================] - 6s 423ms/step - loss: 0.6448 - categorical_accuracy: 0.7427 - val_loss: 0.8832 - val_categorical_accuracy: 0.5938\n",
            "Epoch 24/25\n",
            "15/14 [===============================] - 6s 422ms/step - loss: 0.6285 - categorical_accuracy: 0.7474 - val_loss: 0.7661 - val_categorical_accuracy: 0.6094\n",
            "Epoch 25/25\n",
            "15/14 [===============================] - 6s 416ms/step - loss: 0.6089 - categorical_accuracy: 0.7641 - val_loss: 0.9329 - val_categorical_accuracy: 0.6055\n"
          ],
          "name": "stdout"
        }
      ]
    },
    {
      "cell_type": "markdown",
      "metadata": {
        "colab_type": "text",
        "id": "ZVPNUQcuyAU3"
      },
      "source": [
        "##Evaluating on test set\n",
        "- show the accuracy"
      ]
    },
    {
      "cell_type": "code",
      "metadata": {
        "colab_type": "code",
        "id": "J_JQwuUHMisH",
        "colab": {}
      },
      "source": [
        "##YOUR CODE HERE"
      ],
      "execution_count": 0,
      "outputs": []
    },
    {
      "cell_type": "code",
      "metadata": {
        "colab_type": "code",
        "id": "lgZAtHE6xqhH",
        "colab": {
          "base_uri": "https://localhost:8080/",
          "height": 51
        },
        "outputId": "928cbf93-d97e-4e1c-9846-bd291cbd75fa"
      },
      "source": [
        "loss, accuracy = model2.evaluate([test_x, test_aspect], test_y)\n",
        "\n",
        "print(\"Categorical accuracy: {:.3f}%\".format(accuracy*100))"
      ],
      "execution_count": 41,
      "outputs": [
        {
          "output_type": "stream",
          "text": [
            "638/638 [==============================] - 1s 2ms/step\n",
            "Categorical accuracy: 61.285%\n"
          ],
          "name": "stdout"
        }
      ]
    }
  ]
}